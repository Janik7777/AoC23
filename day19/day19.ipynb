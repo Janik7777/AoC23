{
 "cells": [
  {
   "cell_type": "markdown",
   "metadata": {},
   "source": [
    "# Day 19: Aplenty\n",
    "The Elves of Gear Island are thankful for your help and send you on your way. They even have a hang glider that someone stole from Desert Island; since you're already going that direction, it would help them a lot if you would use it to get down there and return it to them.\n",
    "\n",
    "As you reach the bottom of the relentless avalanche of machine parts, you discover that they're already forming a formidable heap. Don't worry, though - a group of Elves is already here organizing the parts, and they have a system.\n",
    "\n",
    "To start, each part is rated in each of four categories:\n",
    "\n",
    "- x: Extremely cool looking\n",
    "- m: Musical (it makes a noise when you hit it)\n",
    "- a: Aerodynamic\n",
    "- s: Shiny\n",
    "\n",
    "Then, each part is sent through a series of workflows that will ultimately accept or reject the part. Each workflow has a name and contains a list of rules; each rule specifies a condition and where to send the part if the condition is true. The first rule that matches the part being considered is applied immediately, and the part moves on to the destination described by the rule. (The last rule in each workflow has no condition and always applies if reached.)\n",
    "\n",
    "Consider the workflow ex{x>10:one,m<20:two,a>30:R,A}. This workflow is named ex and contains four rules. If workflow ex were considering a specific part, it would perform the following steps in order:\n",
    "\n",
    "- Rule \"x>10:one\": If the part's x is more than 10, send the part to the workflow named one.\n",
    "- Rule \"m<20:two\": Otherwise, if the part's m is less than 20, send the part to the workflow named two.\n",
    "- Rule \"a>30:R\": Otherwise, if the part's a is more than 30, the part is immediately rejected (R).\n",
    "- Rule \"A\": Otherwise, because no other rules matched the part, the part is immediately accepted (A).\n",
    "\n",
    "If a part is sent to another workflow, it immediately switches to the start of that workflow instead and never returns. If a part is accepted (sent to A) or rejected (sent to R), the part immediately stops any further processing.\n",
    "\n",
    "The system works, but it's not keeping up with the torrent of weird metal shapes. The Elves ask if you can help sort a few parts and give you the list of workflows and some part ratings (your puzzle input). For example:\n",
    "```\n",
    "px{a<2006:qkq,m>2090:A,rfg}\n",
    "pv{a>1716:R,A}\n",
    "lnx{m>1548:A,A}\n",
    "rfg{s<537:gd,x>2440:R,A}\n",
    "qs{s>3448:A,lnx}\n",
    "qkq{x<1416:A,crn}\n",
    "crn{x>2662:A,R}\n",
    "in{s<1351:px,qqz}\n",
    "qqz{s>2770:qs,m<1801:hdj,R}\n",
    "gd{a>3333:R,R}\n",
    "hdj{m>838:A,pv}\n",
    "\n",
    "{x=787,m=2655,a=1222,s=2876}\n",
    "{x=1679,m=44,a=2067,s=496}\n",
    "{x=2036,m=264,a=79,s=2244}\n",
    "{x=2461,m=1339,a=466,s=291}\n",
    "{x=2127,m=1623,a=2188,s=1013}\n",
    "```\n",
    "The workflows are listed first, followed by a blank line, then the ratings of the parts the Elves would like you to sort. All parts begin in the workflow named in. In this example, the five listed parts go through the following workflows:\n",
    "\n",
    "- {x=787,m=2655,a=1222,s=2876}: in -> qqz -> qs -> lnx -> A\n",
    "- {x=1679,m=44,a=2067,s=496}: in -> px -> rfg -> gd -> R\n",
    "- {x=2036,m=264,a=79,s=2244}: in -> qqz -> hdj -> pv -> A\n",
    "- {x=2461,m=1339,a=466,s=291}: in -> px -> qkq -> crn -> R\n",
    "- {x=2127,m=1623,a=2188,s=1013}: in -> px -> rfg -> A\n",
    "\n",
    "Ultimately, three parts are accepted. Adding up the x, m, a, and s rating for each of the accepted parts gives 7540 for the part with x=787, 4623 for the part with x=2036, and 6951 for the part with x=2127. Adding all of the ratings for all of the accepted parts gives the sum total of 19114.\n",
    "\n",
    "Sort through all of the parts you've been given; what do you get if you add together all of the rating numbers for all of the parts that ultimately get accepted?"
   ]
  },
  {
   "cell_type": "code",
   "execution_count": 11,
   "metadata": {},
   "outputs": [],
   "source": [
    "def result(inputfile):\n",
    "    workflows = {}\n",
    "    parts = []\n",
    "    isWorkflowInput = True\n",
    "    with open(inputfile) as f:\n",
    "        for line in f:\n",
    "            if len(line.strip()) == 0:\n",
    "                isWorkflowInput = False\n",
    "            elif isWorkflowInput:\n",
    "                key, rulesstring = line.strip().split('{')\n",
    "                rules = rulesstring[:-1].split(',')\n",
    "                workflows[key] = rules\n",
    "            else:\n",
    "                partRatings = line.strip()[1:-1].split(',')\n",
    "                ratingDict = {}\n",
    "                for rating in partRatings:\n",
    "                    ratingName, ratingValue = rating.split('=')\n",
    "                    ratingDict[ratingName] = int(ratingValue)\n",
    "                parts.append(ratingDict)\n",
    "    result = 0\n",
    "    for part in parts:\n",
    "        currentWorkflow = 'in'\n",
    "        x = part['x']\n",
    "        m = part['m']\n",
    "        a = part['a']\n",
    "        s = part['s']\n",
    "        while True:\n",
    "            currentRules = workflows[currentWorkflow]\n",
    "            for rule in currentRules:\n",
    "                if ':' in rule:\n",
    "                    ruleCondition, ruleTarget = rule.split(':')\n",
    "                else:\n",
    "                    ruleCondition, ruleTarget = \"True\", rule\n",
    "                if eval(ruleCondition):\n",
    "                    break\n",
    "            if ruleTarget == 'A':\n",
    "                result += x+m+a+s\n",
    "                break\n",
    "            elif ruleTarget == 'R':\n",
    "                break\n",
    "            else:\n",
    "                currentWorkflow = ruleTarget\n",
    "\n",
    "    return result"
   ]
  },
  {
   "cell_type": "code",
   "execution_count": 12,
   "metadata": {},
   "outputs": [
    {
     "data": {
      "text/plain": [
       "19114"
      ]
     },
     "execution_count": 12,
     "metadata": {},
     "output_type": "execute_result"
    }
   ],
   "source": [
    "result(\"example-input.txt\")"
   ]
  },
  {
   "cell_type": "code",
   "execution_count": 13,
   "metadata": {},
   "outputs": [
    {
     "data": {
      "text/plain": [
       "374873"
      ]
     },
     "execution_count": 13,
     "metadata": {},
     "output_type": "execute_result"
    }
   ],
   "source": [
    "result(\"input.txt\")"
   ]
  },
  {
   "cell_type": "markdown",
   "metadata": {},
   "source": [
    "### Part Two\n",
    "Even with your help, the sorting process still isn't fast enough.\n",
    "\n",
    "One of the Elves comes up with a new plan: rather than sort parts individually through all of these workflows, maybe you can figure out in advance which combinations of ratings will be accepted or rejected.\n",
    "\n",
    "Each of the four ratings (x, m, a, s) can have an integer value ranging from a minimum of 1 to a maximum of 4000. Of all possible distinct combinations of ratings, your job is to figure out which ones will be accepted.\n",
    "\n",
    "In the above example, there are 167409079868000 distinct combinations of ratings that will be accepted.\n",
    "\n",
    "Consider only your list of workflows; the list of part ratings that the Elves wanted you to sort is no longer relevant. How many distinct combinations of ratings will be accepted by the Elves' workflows?"
   ]
  },
  {
   "cell_type": "code",
   "execution_count": 25,
   "metadata": {},
   "outputs": [],
   "source": [
    "import copy\n",
    "\n",
    "def result2(inputfile):\n",
    "    workflows = {}\n",
    "    isWorkflowInput = True\n",
    "    with open(inputfile) as f:\n",
    "        for line in f:\n",
    "            if len(line.strip()) == 0:\n",
    "                isWorkflowInput = False\n",
    "            elif isWorkflowInput:\n",
    "                key, rulesstring = line.strip().split('{')\n",
    "                rules = rulesstring[:-1].split(',')\n",
    "                workflows[key] = rules\n",
    "    \n",
    "        \n",
    "    result = 0\n",
    "    currentWindows = [{'x': [1,4000], 'm': [1,4000], 'a': [1,4000], 's': [1,4000], 'key': 'in'}]\n",
    "    while len(currentWindows) != 0:\n",
    "        window = currentWindows.pop(0)\n",
    "        if window['key'] == 'A':\n",
    "            result += (window['x'][1] - window['x'][0] + 1) * (window['m'][1] - window['m'][0] + 1) * (window['a'][1] - window['a'][0] + 1) * (window['s'][1] - window['s'][0] + 1)\n",
    "        elif window['key'] == 'R':\n",
    "            continue\n",
    "        else:\n",
    "            rules = workflows[window['key']]\n",
    "            for rule in rules:\n",
    "                if ':' in rule:\n",
    "                    ruleCondition, ruleTarget = rule.split(':')\n",
    "                    if '<' in ruleCondition:\n",
    "                        ratingName, value = ruleCondition.split('<')\n",
    "                        value = int(value)\n",
    "                        windowForName = window[ratingName]\n",
    "                        if value <= windowForName[0]:\n",
    "                            continue\n",
    "                        elif value > windowForName[1]:\n",
    "                            window['key'] = ruleTarget\n",
    "                            currentWindows.append(window)\n",
    "                            break\n",
    "                        else:\n",
    "                            posWindow = copy.deepcopy(window)\n",
    "                            posWindow[ratingName][1] = value - 1\n",
    "                            posWindow['key'] = ruleTarget\n",
    "                            currentWindows.append(posWindow)\n",
    "                            window[ratingName][0] = value\n",
    "                    elif '>' in ruleCondition:\n",
    "                        ratingName, value = ruleCondition.split('>')\n",
    "                        value = int(value)\n",
    "                        windowForName = window[ratingName]\n",
    "                        if value >= windowForName[1]:\n",
    "                            continue\n",
    "                        elif value < windowForName[0]:\n",
    "                            window['key'] = ruleTarget\n",
    "                            currentWindows.append(window)\n",
    "                            break\n",
    "                        else:\n",
    "                            posWindow = copy.deepcopy(window)\n",
    "                            posWindow[ratingName][0] = value + 1\n",
    "                            posWindow['key'] = ruleTarget\n",
    "                            currentWindows.append(posWindow)\n",
    "                            window[ratingName][1] = value\n",
    "                    else:\n",
    "                        print(\"ERROR\")\n",
    "                else:\n",
    "                    window['key'] = rule\n",
    "                    currentWindows.append(window)\n",
    "                    break\n",
    "    return result"
   ]
  },
  {
   "cell_type": "code",
   "execution_count": 26,
   "metadata": {},
   "outputs": [
    {
     "data": {
      "text/plain": [
       "167409079868000"
      ]
     },
     "execution_count": 26,
     "metadata": {},
     "output_type": "execute_result"
    }
   ],
   "source": [
    "result2(\"example-input.txt\")"
   ]
  },
  {
   "cell_type": "code",
   "execution_count": 27,
   "metadata": {},
   "outputs": [
    {
     "data": {
      "text/plain": [
       "122112157518711"
      ]
     },
     "execution_count": 27,
     "metadata": {},
     "output_type": "execute_result"
    }
   ],
   "source": [
    "result2(\"input.txt\")"
   ]
  }
 ],
 "metadata": {
  "kernelspec": {
   "display_name": "Python 3.9.6 64-bit",
   "language": "python",
   "name": "python3"
  },
  "language_info": {
   "codemirror_mode": {
    "name": "ipython",
    "version": 3
   },
   "file_extension": ".py",
   "mimetype": "text/x-python",
   "name": "python",
   "nbconvert_exporter": "python",
   "pygments_lexer": "ipython3",
   "version": "3.9.6"
  },
  "orig_nbformat": 4,
  "vscode": {
   "interpreter": {
    "hash": "31f2aee4e71d21fbe5cf8b01ff0e069b9275f58929596ceb00d14d90e3e16cd6"
   }
  }
 },
 "nbformat": 4,
 "nbformat_minor": 2
}
