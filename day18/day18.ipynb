{
 "cells": [
  {
   "cell_type": "markdown",
   "metadata": {},
   "source": [
    "# Day 18: Lavaduct Lagoon\n",
    "Thanks to your efforts, the machine parts factory is one of the first factories up and running since the lavafall came back. However, to catch up with the large backlog of parts requests, the factory will also need a large supply of lava for a while; the Elves have already started creating a large lagoon nearby for this purpose.\n",
    "\n",
    "However, they aren't sure the lagoon will be big enough; they've asked you to take a look at the dig plan (your puzzle input). For example:\n",
    "```\n",
    "R 6 (#70c710)\n",
    "D 5 (#0dc571)\n",
    "L 2 (#5713f0)\n",
    "D 2 (#d2c081)\n",
    "R 2 (#59c680)\n",
    "D 2 (#411b91)\n",
    "L 5 (#8ceee2)\n",
    "U 2 (#caa173)\n",
    "L 1 (#1b58a2)\n",
    "U 2 (#caa171)\n",
    "R 2 (#7807d2)\n",
    "U 3 (#a77fa3)\n",
    "L 2 (#015232)\n",
    "U 2 (#7a21e3)\n",
    "```\n",
    "The digger starts in a 1 meter cube hole in the ground. They then dig the specified number of meters up (U), down (D), left (L), or right (R), clearing full 1 meter cubes as they go. The directions are given as seen from above, so if \"up\" were north, then \"right\" would be east, and so on. Each trench is also listed with the color that the edge of the trench should be painted as an RGB hexadecimal color code.\n",
    "\n",
    "When viewed from above, the above example dig plan would result in the following loop of trench (#) having been dug out from otherwise ground-level terrain (.):\n",
    "```\n",
    "#######\n",
    "#.....#\n",
    "###...#\n",
    "..#...#\n",
    "..#...#\n",
    "###.###\n",
    "#...#..\n",
    "##..###\n",
    ".#....#\n",
    ".######\n",
    "```\n",
    "At this point, the trench could contain 38 cubic meters of lava. However, this is just the edge of the lagoon; the next step is to dig out the interior so that it is one meter deep as well:\n",
    "```\n",
    "#######\n",
    "#######\n",
    "#######\n",
    "..#####\n",
    "..#####\n",
    "#######\n",
    "#####..\n",
    "#######\n",
    ".######\n",
    ".######\n",
    "```\n",
    "Now, the lagoon can contain a much more respectable 62 cubic meters of lava. While the interior is dug out, the edges are also painted according to the color codes in the dig plan.\n",
    "\n",
    "The Elves are concerned the lagoon won't be large enough; if they follow their dig plan, how many cubic meters of lava could it hold?"
   ]
  },
  {
   "cell_type": "code",
   "execution_count": 1,
   "metadata": {},
   "outputs": [],
   "source": [
    "def checkForLoop(inputfile):\n",
    "\n",
    "    dirs = []\n",
    "    lengths = []\n",
    "    colours = []\n",
    "    with open(inputfile) as f:\n",
    "        for line in f:\n",
    "            splitLine = line.strip().split(' ')\n",
    "            dirs.append(splitLine[0])\n",
    "            lengths.append(int(splitLine[1]))\n",
    "            colours.append(splitLine[2][1:7])\n",
    "    x, y = 0, 0\n",
    "    for i in range(len(dirs)):\n",
    "        if dirs[i] == 'R':\n",
    "            x += lengths[i]\n",
    "        if dirs[i] == 'L':\n",
    "            x -= lengths[i]\n",
    "        if dirs[i] == 'D':\n",
    "            y += lengths[i]\n",
    "        if dirs[i] == 'U':\n",
    "            y -= lengths[i]\n",
    "    print(x)\n",
    "    print(y)"
   ]
  },
  {
   "cell_type": "code",
   "execution_count": 2,
   "metadata": {},
   "outputs": [
    {
     "name": "stdout",
     "output_type": "stream",
     "text": [
      "0\n",
      "0\n"
     ]
    }
   ],
   "source": [
    "checkForLoop(\"example-input.txt\")"
   ]
  },
  {
   "cell_type": "code",
   "execution_count": 4,
   "metadata": {},
   "outputs": [
    {
     "name": "stdout",
     "output_type": "stream",
     "text": [
      "0\n",
      "0\n"
     ]
    }
   ],
   "source": [
    "checkForLoop(\"input.txt\")"
   ]
  },
  {
   "cell_type": "code",
   "execution_count": 45,
   "metadata": {},
   "outputs": [],
   "source": [
    "def getWindow(dirs, lengths):\n",
    "    x, y, min_x, min_y, max_x, max_y = 0, 0, 0, 0, 0, 0\n",
    "    for i in range(len(dirs)):\n",
    "        if dirs[i] == 'R':\n",
    "            x += lengths[i]\n",
    "            max_x = max(x, max_x)\n",
    "        if dirs[i] == 'L':\n",
    "            x -= lengths[i]\n",
    "            min_x = min(x, min_x)\n",
    "        if dirs[i] == 'D':\n",
    "            y += lengths[i]\n",
    "            max_y = max(y, max_y)\n",
    "        if dirs[i] == 'U':\n",
    "            y -= lengths[i]\n",
    "            min_y = min(y, min_y)\n",
    "    return min_x, min_y, max_x, max_y\n",
    "\n",
    "def getWindowFormFile(inputfile):\n",
    "    dirs = []\n",
    "    lengths = []\n",
    "    colours = []\n",
    "    with open(inputfile) as f:\n",
    "        for line in f:\n",
    "            splitLine = line.strip().split(' ')\n",
    "            dirs.append(splitLine[0])\n",
    "            lengths.append(int(splitLine[1]))\n",
    "            colours.append(splitLine[2][1:7])\n",
    "    return getWindow(dirs, lengths)"
   ]
  },
  {
   "cell_type": "code",
   "execution_count": 6,
   "metadata": {},
   "outputs": [
    {
     "data": {
      "text/plain": [
       "(0, 0, 6, 9)"
      ]
     },
     "execution_count": 6,
     "metadata": {},
     "output_type": "execute_result"
    }
   ],
   "source": [
    "getWindowFormFile(\"example-input.txt\")"
   ]
  },
  {
   "cell_type": "code",
   "execution_count": 7,
   "metadata": {},
   "outputs": [
    {
     "data": {
      "text/plain": [
       "(-57, -192, 329, 71)"
      ]
     },
     "execution_count": 7,
     "metadata": {},
     "output_type": "execute_result"
    }
   ],
   "source": [
    "getWindowFormFile(\"input.txt\")"
   ]
  },
  {
   "cell_type": "code",
   "execution_count": 8,
   "metadata": {},
   "outputs": [],
   "source": [
    "def digMap(inputfile):\n",
    "\n",
    "    dirs = []\n",
    "    lengths = []\n",
    "    colours = []\n",
    "    with open(inputfile) as f:\n",
    "        for line in f:\n",
    "            splitLine = line.strip().split(' ')\n",
    "            dirs.append(splitLine[0])\n",
    "            lengths.append(int(splitLine[1]))\n",
    "            colours.append(splitLine[2][1:7])\n",
    "        \n",
    "    min_x, min_y, max_x, max_y = getWindow(dirs, lengths)\n",
    "    x, y = - min_x, -min_y\n",
    "    map = [['.' for _ in range(max_x - min_x + 1)] for _ in range(max_y - min_y + 1)]\n",
    "    for i in range(len(dirs)):\n",
    "        if dirs[i] == 'R':\n",
    "            for j in range(x + 1, x+ lengths[i] + 1):\n",
    "                map[y][j] = '#'\n",
    "            x += lengths[i]\n",
    "        if dirs[i] == 'L':\n",
    "            for j in range(x - 1, x- lengths[i] - 1, -1):\n",
    "                map[y][j] = '#'\n",
    "            x -= lengths[i]\n",
    "        if dirs[i] == 'D':\n",
    "            for j in range(y + 1, y+ lengths[i] + 1):\n",
    "                map[j][x] = '#'\n",
    "            y += lengths[i]\n",
    "        if dirs[i] == 'U':\n",
    "            for j in range(y - 1, y- lengths[i] - 1, -1):\n",
    "                map[j][x] = '#'\n",
    "            y -= lengths[i]\n",
    "    return map"
   ]
  },
  {
   "cell_type": "code",
   "execution_count": 70,
   "metadata": {},
   "outputs": [],
   "source": [
    "from PIL import Image\n",
    "\n",
    "def getDigMapImage(filename, pixel_size):\n",
    "    map = digMap(filename)\n",
    "    binary_list = []\n",
    "    for line in map:\n",
    "        s = \"\"\n",
    "        for point in line:\n",
    "            if point == '.':\n",
    "                s += '0'\n",
    "            else:\n",
    "                s += '1'\n",
    "        binary_list.append(s)\n",
    "\n",
    "    # Convert '0' and '1' strings to a 2D list of integers\n",
    "    binary_matrix = [[int(bit) for bit in row] for row in binary_list]\n",
    "\n",
    "    # Create an image\n",
    "    image_size = (len(binary_matrix[0]) * pixel_size, len(binary_matrix) * pixel_size)\n",
    "    image = Image.new('1', image_size, 1)  # '1' mode for 1-bit pixels (black and white)\n",
    "\n",
    "    # Draw pixels based on the binary matrix\n",
    "    for y, row in enumerate(binary_matrix):\n",
    "        for x, bit in enumerate(row):\n",
    "            color = 0 if bit == 1 else 1  # 0 for '1' (black), 1 for '0' (white)\n",
    "            for i in range(pixel_size):\n",
    "                for j in range(pixel_size):\n",
    "                    image.putpixel((x * pixel_size + i, y * pixel_size + j), color)\n",
    "\n",
    "    # Save the image\n",
    "    return image"
   ]
  },
  {
   "cell_type": "code",
   "execution_count": 10,
   "metadata": {},
   "outputs": [
    {
     "data": {
      "image/png": "[encoded data removed]",
      "text/plain": [
       "<PIL.Image.Image image mode=1 size=70x100>"
      ]
     },
     "execution_count": 10,
     "metadata": {},
     "output_type": "execute_result"
    }
   ],
   "source": [
    "getDigMapImage(\"example-input.txt\",10)"
   ]
  },
  {
   "cell_type": "code",
   "execution_count": 11,
   "metadata": {},
   "outputs": [
    {
     "data": {
      "image/png": "[encoded data removed]",
      "text/plain": [
       "<PIL.Image.Image image mode=1 size=387x264>"
      ]
     },
     "execution_count": 11,
     "metadata": {},
     "output_type": "execute_result"
    }
   ],
   "source": [
    "getDigMapImage(\"input.txt\",1)"
   ]
  },
  {
   "cell_type": "code",
   "execution_count": 15,
   "metadata": {},
   "outputs": [],
   "source": [
    "from tqdm import tqdm\n",
    "\n",
    "def result(inputfile):\n",
    "    map = digMap(inputfile)\n",
    "    length = len(map)\n",
    "    width = len(map[0])\n",
    "    visited = []\n",
    "    next = [[0, i] for i in range(width)] + [[length - 1, i] for i in range(width)] + [[i, 0] for i in range(1,length-1)] + [[i, width -1] for i in range(1,length-1)]\n",
    "    progress_bar = tqdm(total=len(next), desc=\"Countdown\", unit=\"iteration\")\n",
    "    while(len(next) > 0):\n",
    "        point = next.pop(0)\n",
    "        if point not in visited and map[point[0]][point[1]] == '.':\n",
    "            visited.append(point)\n",
    "            for shift in [[1,0],[-1,0],[0,1],[0,-1]]:\n",
    "                y = point[0] + shift[0]\n",
    "                x = point[1] + shift[1]\n",
    "                nextPoint = [y,x]\n",
    "                if (0 <= x < width) and (0 <= y < length) and (nextPoint not in visited) and (nextPoint not in next) and (map[y][x] == '.'):\n",
    "                    next.append(nextPoint)\n",
    "        progress_bar.update(1)\n",
    "        progress_bar.set_postfix({\"Current value\": len(next)})\n",
    "    progress_bar.close()\n",
    "    return length * width - len(visited)\n"
   ]
  },
  {
   "cell_type": "code",
   "execution_count": 16,
   "metadata": {},
   "outputs": [
    {
     "name": "stderr",
     "output_type": "stream",
     "text": [
      "Countdown: 33iteration [00:00, 2864.55iteration/s, Current value=0]                  \n"
     ]
    },
    {
     "data": {
      "text/plain": [
       "62"
      ]
     },
     "execution_count": 16,
     "metadata": {},
     "output_type": "execute_result"
    }
   ],
   "source": [
    "result(\"example-input.txt\")"
   ]
  },
  {
   "cell_type": "code",
   "execution_count": 17,
   "metadata": {},
   "outputs": [
    {
     "name": "stderr",
     "output_type": "stream",
     "text": [
      "Countdown: 2980iteration [00:02, 1088.96iteration/s, Current value=1228]                   IOPub message rate exceeded.\n",
      "The notebook server will temporarily stop sending output\n",
      "to the client in order to avoid crashing it.\n",
      "To change this limit, set the config variable\n",
      "`--NotebookApp.iopub_msg_rate_limit`.\n",
      "\n",
      "Current values:\n",
      "NotebookApp.iopub_msg_rate_limit=1000.0 (msgs/sec)\n",
      "NotebookApp.rate_limit_window=3.0 (secs)\n",
      "\n",
      "Countdown: 52612iteration [02:40, 327.99iteration/s, Current value=0]   \n"
     ]
    },
    {
     "data": {
      "text/plain": [
       "49578"
      ]
     },
     "execution_count": 17,
     "metadata": {},
     "output_type": "execute_result"
    }
   ],
   "source": [
    "result(\"input.txt\")"
   ]
  },
  {
   "cell_type": "markdown",
   "metadata": {},
   "source": [
    "### Part Two\n",
    "The Elves were right to be concerned; the planned lagoon would be much too small.\n",
    "\n",
    "After a few minutes, someone realizes what happened; someone swapped the color and instruction parameters when producing the dig plan. They don't have time to fix the bug; one of them asks if you can extract the correct instructions from the hexadecimal codes.\n",
    "\n",
    "Each hexadecimal code is six hexadecimal digits long. The first five hexadecimal digits encode the distance in meters as a five-digit hexadecimal number. The last hexadecimal digit encodes the direction to dig: 0 means R, 1 means D, 2 means L, and 3 means U.\n",
    "\n",
    "So, in the above example, the hexadecimal codes can be converted into the true instructions:\n",
    "```\n",
    "#70c710 = R 461937\n",
    "#0dc571 = D 56407\n",
    "#5713f0 = R 356671\n",
    "#d2c081 = D 863240\n",
    "#59c680 = R 367720\n",
    "#411b91 = D 266681\n",
    "#8ceee2 = L 577262\n",
    "#caa173 = U 829975\n",
    "#1b58a2 = L 112010\n",
    "#caa171 = D 829975\n",
    "#7807d2 = L 491645\n",
    "#a77fa3 = U 686074\n",
    "#015232 = L 5411\n",
    "#7a21e3 = U 500254\n",
    "```\n",
    "Digging out this loop and its interior produces a lagoon that can hold an impressive 952408144115 cubic meters of lava.\n",
    "\n",
    "Convert the hexadecimal color codes into the correct instructions; if the Elves follow this new dig plan, how many cubic meters of lava could the lagoon hold?"
   ]
  },
  {
   "cell_type": "code",
   "execution_count": 1,
   "metadata": {},
   "outputs": [],
   "source": [
    "dirMap = {\n",
    "    '0': 'R',\n",
    "    '1': 'D',\n",
    "    '2': 'L',\n",
    "    '3': 'U'\n",
    "}\n",
    "\n",
    "def checkForLoop2(inputfile):\n",
    "\n",
    "    dirs = []\n",
    "    lengths = []\n",
    "    with open(inputfile) as f:\n",
    "        for line in f:\n",
    "            splitLine = line.strip().split(' ')\n",
    "            lengths.append(int(splitLine[2][2:7],16))\n",
    "            dirs.append(dirMap[splitLine[2][7]])\n",
    "    x, y = 0, 0\n",
    "    for i in range(len(dirs)):\n",
    "        if dirs[i] == 'R':\n",
    "            x += lengths[i]\n",
    "        if dirs[i] == 'L':\n",
    "            x -= lengths[i]\n",
    "        if dirs[i] == 'D':\n",
    "            y += lengths[i]\n",
    "        if dirs[i] == 'U':\n",
    "            y -= lengths[i]\n",
    "    print(x)\n",
    "    print(y)"
   ]
  },
  {
   "cell_type": "code",
   "execution_count": 2,
   "metadata": {},
   "outputs": [
    {
     "name": "stdout",
     "output_type": "stream",
     "text": [
      "0\n",
      "0\n"
     ]
    }
   ],
   "source": [
    "checkForLoop2(\"example-input.txt\")"
   ]
  },
  {
   "cell_type": "code",
   "execution_count": 3,
   "metadata": {},
   "outputs": [
    {
     "name": "stdout",
     "output_type": "stream",
     "text": [
      "0\n",
      "0\n"
     ]
    }
   ],
   "source": [
    "checkForLoop2(\"input.txt\")"
   ]
  },
  {
   "cell_type": "code",
   "execution_count": 136,
   "metadata": {},
   "outputs": [],
   "source": [
    "def result2(inputfile):\n",
    "\n",
    "    # dirs = []\n",
    "    # lengths = []\n",
    "    # colours = []\n",
    "    # with open(inputfile) as f:\n",
    "    #     for line in f:\n",
    "    #         splitLine = line.strip().split(' ')\n",
    "    #         dirs.append(splitLine[0])\n",
    "    #         lengths.append(int(splitLine[1]))\n",
    "    #         colours.append(splitLine[2][1:7])\n",
    "\n",
    "    dirs = []\n",
    "    lengths = []\n",
    "    with open(inputfile) as f:\n",
    "        for line in f:\n",
    "            splitLine = line.strip().split(' ')\n",
    "            lengths.append(int(splitLine[2][2:7],16))\n",
    "            dirs.append(dirMap[splitLine[2][7]])\n",
    "\n",
    "    # def getMap():\n",
    "    #     min_x, min_y, max_x, max_y = getWindow(dirs, lengths)\n",
    "    #     x, y = - min_x, -min_y\n",
    "    #     map = [['.' for _ in range(max_x - min_x + 1)] for _ in range(max_y - min_y + 1)]\n",
    "    #     for i in range(len(dirs)):\n",
    "    #         if dirs[i] == 'R':\n",
    "    #             for j in range(x + 1, x+ lengths[i] + 1):\n",
    "    #                 map[y][j] = '#'\n",
    "    #             x += lengths[i]\n",
    "    #         if dirs[i] == 'L':\n",
    "    #             for j in range(x - 1, x- lengths[i] - 1, -1):\n",
    "    #                 map[y][j] = '#'\n",
    "    #             x -= lengths[i]\n",
    "    #         if dirs[i] == 'D':\n",
    "    #             for j in range(y + 1, y+ lengths[i] + 1):\n",
    "    #                 map[j][x] = '#'\n",
    "    #             y += lengths[i]\n",
    "    #         if dirs[i] == 'U':\n",
    "    #             for j in range(y - 1, y- lengths[i] - 1, -1):\n",
    "    #                 map[j][x] = '#'\n",
    "    #             y -= lengths[i]\n",
    "    #     return map\n",
    "    i = 0\n",
    "    areasCutOff = [0,0]\n",
    "    areasFilledUp = [0,0]\n",
    "    posPairs = [['U','L'], ['L','D'], ['D','R'], ['R','U']]\n",
    "    def deleteZero(index):\n",
    "        prev = (index-1) % len(dirs)\n",
    "        next = (index+1) % len(dirs)\n",
    "        signum = 1 if  dirs[prev] == dirs[next] else -1\n",
    "        shorter = min(lengths[next], lengths[prev])\n",
    "        if lengths[next] > lengths[prev]:\n",
    "            if signum == -1:\n",
    "                areasCutOff[1] += shorter\n",
    "            dirs[prev] = dirs[next]\n",
    "        elif signum == -1: \n",
    "            areasCutOff[0] += shorter\n",
    "        lengths[prev] = abs(lengths[prev] + signum * lengths[next])\n",
    "        lengths.pop(max(index, next))\n",
    "        lengths.pop(min(index, next))\n",
    "        dirs.pop(max(index, next))\n",
    "        dirs.pop(min(index, next))\n",
    "    \n",
    "    # for line in getMap():\n",
    "    #     print(\"\".join(line))\n",
    "    while(any([dirs[j] != dirs[(j + 2) % len(dirs)] for j in range(len(dirs))]) and len(dirs) > 4):\n",
    "        while any([l == 0 for l in lengths]):\n",
    "            deleteZero(lengths.index(0))\n",
    "            # print(str(areasCutOff) + str(areasFilledUp))\n",
    "        i = i % len(dirs)\n",
    "        next = (i+1) % len(dirs)\n",
    "        further = (i+2) % len(dirs)\n",
    "        evenfurther = (i+3) % len(dirs)\n",
    "        if dirs[i] != dirs[further] and dirs[next] == dirs[evenfurther]:\n",
    "            areaCutOff = (lengths[next] + 1) * min(lengths[i], lengths[further])\n",
    "            areaFilledUp = (lengths[next] - 1) * min(lengths[i], lengths[further])\n",
    "            if [dirs[i],dirs[next]] in posPairs:\n",
    "                areasCutOff[0] += areaCutOff\n",
    "                areasFilledUp[0] += areaFilledUp\n",
    "            else:\n",
    "                areasCutOff[1] += areaCutOff\n",
    "                areasFilledUp[1] += areaFilledUp\n",
    "            \n",
    "            if lengths[i] < lengths[further]:\n",
    "                lengths[further] -= lengths[i]\n",
    "                lengths[i] = 0\n",
    "            else:\n",
    "                lengths[i] -= lengths[further]\n",
    "                lengths[further] = 0\n",
    "            # currentMap = getMap()\n",
    "            # print(\"\")\n",
    "            # for line in currentMap:\n",
    "            #     print(\"\".join(line))\n",
    "            # print(str(areasCutOff) + str(areasFilledUp))\n",
    "        i += 1\n",
    "    leftoverSquare = (lengths[0] + 1) * (lengths[1] + 1)\n",
    "    return leftoverSquare - areasFilledUp[0] + areasCutOff[1], leftoverSquare + areasCutOff[0] - areasFilledUp[1], lengths"
   ]
  },
  {
   "cell_type": "code",
   "execution_count": 137,
   "metadata": {},
   "outputs": [
    {
     "data": {
      "text/plain": [
       "(952408144115, -225728696619, [818608, 443847, 818608, 443847])"
      ]
     },
     "execution_count": 137,
     "metadata": {},
     "output_type": "execute_result"
    }
   ],
   "source": [
    "result2(\"example-input.txt\")"
   ]
  },
  {
   "cell_type": "code",
   "execution_count": 138,
   "metadata": {},
   "outputs": [
    {
     "data": {
      "text/plain": [
       "(52885384955882, -49827519089487, [305905, 4997797, 305905, 4997797])"
      ]
     },
     "execution_count": 138,
     "metadata": {},
     "output_type": "execute_result"
    }
   ],
   "source": [
    "result2(\"input.txt\")"
   ]
  }
 ],
 "metadata": {
  "kernelspec": {
   "display_name": "Python 3.10.6 ('immd')",
   "language": "python",
   "name": "python3"
  },
  "language_info": {
   "codemirror_mode": {
    "name": "ipython",
    "version": 3
   },
   "file_extension": ".py",
   "mimetype": "text/x-python",
   "name": "python",
   "nbconvert_exporter": "python",
   "pygments_lexer": "ipython3",
   "version": "3.10.6"
  },
  "orig_nbformat": 4,
  "vscode": {
   "interpreter": {
    "hash": "3788634bf4494cb8c78f338b49d3415b443921db7d01b0c627acb9285c954547"
   }
  }
 },
 "nbformat": 4,
 "nbformat_minor": 2
}
