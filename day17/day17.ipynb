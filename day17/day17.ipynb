{
 "cells": [
  {
   "cell_type": "markdown",
   "metadata": {},
   "source": [
    "# Day 17: Clumsy Crucible\n",
    "The lava starts flowing rapidly once the Lava Production Facility is operational. As you leave, the reindeer offers you a parachute, allowing you to quickly reach Gear Island.\n",
    "\n",
    "As you descend, your bird's-eye view of Gear Island reveals why you had trouble finding anyone on your way up: half of Gear Island is empty, but the half below you is a giant factory city!\n",
    "\n",
    "You land near the gradually-filling pool of lava at the base of your new lavafall. Lavaducts will eventually carry the lava throughout the city, but to make use of it immediately, Elves are loading it into large crucibles on wheels.\n",
    "\n",
    "The crucibles are top-heavy and pushed by hand. Unfortunately, the crucibles become very difficult to steer at high speeds, and so it can be hard to go in a straight line for very long.\n",
    "\n",
    "To get Desert Island the machine parts it needs as soon as possible, you'll need to find the best way to get the crucible from the lava pool to the machine parts factory. To do this, you need to minimize heat loss while choosing a route that doesn't require the crucible to go in a straight line for too long.\n",
    "\n",
    "Fortunately, the Elves here have a map (your puzzle input) that uses traffic patterns, ambient temperature, and hundreds of other parameters to calculate exactly how much heat loss can be expected for a crucible entering any particular city block.\n",
    "\n",
    "For example:\n",
    "```\n",
    "2413432311323\n",
    "3215453535623\n",
    "3255245654254\n",
    "3446585845452\n",
    "4546657867536\n",
    "1438598798454\n",
    "4457876987766\n",
    "3637877979653\n",
    "4654967986887\n",
    "4564679986453\n",
    "1224686865563\n",
    "2546548887735\n",
    "4322674655533\n",
    "```\n",
    "Each city block is marked by a single digit that represents the amount of heat loss if the crucible enters that block. The starting point, the lava pool, is the top-left city block; the destination, the machine parts factory, is the bottom-right city block. (Because you already start in the top-left block, you don't incur that block's heat loss unless you leave that block and then return to it.)\n",
    "\n",
    "Because it is difficult to keep the top-heavy crucible going in a straight line for very long, it can move at most three blocks in a single direction before it must turn 90 degrees left or right. The crucible also can't reverse direction; after entering each city block, it may only turn left, continue straight, or turn right.\n",
    "\n",
    "One way to minimize heat loss is this path:\n",
    "```\n",
    "2>>34^>>>1323\n",
    "32v>>>35v5623\n",
    "32552456v>>54\n",
    "3446585845v52\n",
    "4546657867v>6\n",
    "14385987984v4\n",
    "44578769877v6\n",
    "36378779796v>\n",
    "465496798688v\n",
    "456467998645v\n",
    "12246868655<v\n",
    "25465488877v5\n",
    "43226746555v>\n",
    "```\n",
    "This path never moves more than three consecutive blocks in the same direction and incurs a heat loss of only 102.\n",
    "\n",
    "Directing the crucible from the lava pool to the machine parts factory, but not moving more than three consecutive blocks in the same direction, what is the least heat loss it can incur?"
   ]
  },
  {
   "cell_type": "code",
   "execution_count": 9,
   "metadata": {},
   "outputs": [],
   "source": [
    "from collections import defaultdict\n",
    "\n",
    "def result(inputfile):\n",
    "\n",
    "    input = []\n",
    "    scoreFacingLR = defaultdict(lambda: defaultdict(lambda: float('inf')))\n",
    "    scoreFacingUD = defaultdict(lambda: defaultdict(lambda: float('inf')))\n",
    "\n",
    "    with open(inputfile) as f:\n",
    "        for line in f:\n",
    "            input.append([int(char) for char in line.strip()])\n",
    "    \n",
    "    length = len(input)\n",
    "    width = len(input[0])\n",
    "    scoreFacingLR[0][0] = 0\n",
    "    scoreFacingUD[0][0] = 0\n",
    "    nextPoints = [[0,0],[0,0]]\n",
    "    nextDirs = ['LR','UD']\n",
    "    while len(nextPoints) > 0:\n",
    "        point = nextPoints.pop(0)\n",
    "        dir = nextDirs.pop(0)\n",
    "        if dir == 'LR':\n",
    "            scoreOfPoint = scoreFacingUD[point[0]][point[1]]\n",
    "            addedScore = 0\n",
    "            for i in range(1,4):\n",
    "                if point[1] - i < 0:\n",
    "                    break\n",
    "                addedScore += input[point[0]][point[1] - i]\n",
    "                if scoreOfPoint + addedScore < scoreFacingLR[point[0]][point[1] - i]:\n",
    "                    scoreFacingLR[point[0]][point[1] - i] = scoreOfPoint + addedScore\n",
    "                    nextPoints.append([point[0], point[1] - i])\n",
    "                    nextDirs.append('UD')\n",
    "            addedScore = 0\n",
    "            for i in range(1,4):\n",
    "                if point[1] + i >= width:\n",
    "                    break\n",
    "                addedScore += input[point[0]][point[1] + i]\n",
    "                if scoreOfPoint + addedScore < scoreFacingLR[point[0]][point[1] + i]:\n",
    "                    scoreFacingLR[point[0]][point[1] + i] = scoreOfPoint + addedScore\n",
    "                    nextPoints.append([point[0], point[1] + i])\n",
    "                    nextDirs.append('UD')\n",
    "        else:\n",
    "            scoreOfPoint = scoreFacingLR[point[0]][point[1]]\n",
    "            addedScore = 0\n",
    "            for i in range(1,4):\n",
    "                if point[0] - i < 0:\n",
    "                    break\n",
    "                addedScore += input[point[0] - i][point[1]]\n",
    "                if scoreOfPoint + addedScore < scoreFacingUD[point[0] - i][point[1]]:\n",
    "                    scoreFacingUD[point[0] - i][point[1]] = scoreOfPoint + addedScore\n",
    "                    nextPoints.append([point[0] - i, point[1]])\n",
    "                    nextDirs.append('LR')\n",
    "            addedScore = 0\n",
    "            for i in range(1,4):\n",
    "                if point[0] + i >= length:\n",
    "                    break\n",
    "                addedScore += input[point[0] + i][point[1]]\n",
    "                if scoreOfPoint + addedScore < scoreFacingUD[point[0] + i][point[1]]:\n",
    "                    scoreFacingUD[point[0] + i][point[1]] = scoreOfPoint + addedScore\n",
    "                    nextPoints.append([point[0] + i, point[1]])\n",
    "                    nextDirs.append('LR')\n",
    "    return min(scoreFacingLR[length - 1][width - 1], scoreFacingUD[length - 1][width - 1])"
   ]
  },
  {
   "cell_type": "code",
   "execution_count": 10,
   "metadata": {},
   "outputs": [
    {
     "data": {
      "text/plain": [
       "102"
      ]
     },
     "execution_count": 10,
     "metadata": {},
     "output_type": "execute_result"
    }
   ],
   "source": [
    "result(\"example-input.txt\")"
   ]
  },
  {
   "cell_type": "code",
   "execution_count": 11,
   "metadata": {},
   "outputs": [
    {
     "data": {
      "text/plain": [
       "1065"
      ]
     },
     "execution_count": 11,
     "metadata": {},
     "output_type": "execute_result"
    }
   ],
   "source": [
    "result(\"input.txt\")"
   ]
  },
  {
   "cell_type": "markdown",
   "metadata": {},
   "source": [
    "### Part Two\n",
    "The crucibles of lava simply aren't large enough to provide an adequate supply of lava to the machine parts factory. Instead, the Elves are going to upgrade to ultra crucibles.\n",
    "\n",
    "Ultra crucibles are even more difficult to steer than normal crucibles. Not only do they have trouble going in a straight line, but they also have trouble turning!\n",
    "\n",
    "Once an ultra crucible starts moving in a direction, it needs to move a minimum of four blocks in that direction before it can turn (or even before it can stop at the end). However, it will eventually start to get wobbly: an ultra crucible can move a maximum of ten consecutive blocks without turning.\n",
    "\n",
    "In the above example, an ultra crucible could follow this path to minimize heat loss:\n",
    "```\n",
    "2>>>>>>>>1323\n",
    "32154535v5623\n",
    "32552456v4254\n",
    "34465858v5452\n",
    "45466578v>>>>\n",
    "143859879845v\n",
    "445787698776v\n",
    "363787797965v\n",
    "465496798688v\n",
    "456467998645v\n",
    "122468686556v\n",
    "254654888773v\n",
    "432267465553v\n",
    "```\n",
    "In the above example, an ultra crucible would incur the minimum possible heat loss of 94.\n",
    "\n",
    "Here's another example:\n",
    "```\n",
    "111111111111\n",
    "999999999991\n",
    "999999999991\n",
    "999999999991\n",
    "999999999991\n",
    "```\n",
    "Sadly, an ultra crucible would need to take an unfortunate path like this one:\n",
    "```\n",
    "1>>>>>>>1111\n",
    "9999999v9991\n",
    "9999999v9991\n",
    "9999999v9991\n",
    "9999999v>>>>\n",
    "```\n",
    "This route causes the ultra crucible to incur the minimum possible heat loss of 71.\n",
    "\n",
    "Directing the ultra crucible from the lava pool to the machine parts factory, what is the least heat loss it can incur?"
   ]
  },
  {
   "cell_type": "code",
   "execution_count": 15,
   "metadata": {},
   "outputs": [],
   "source": [
    "def result2(inputfile):\n",
    "\n",
    "    input = []\n",
    "    scoreFacingLR = defaultdict(lambda: defaultdict(lambda: float('inf')))\n",
    "    scoreFacingUD = defaultdict(lambda: defaultdict(lambda: float('inf')))\n",
    "\n",
    "    with open(inputfile) as f:\n",
    "        for line in f:\n",
    "            input.append([int(char) for char in line.strip()])\n",
    "    \n",
    "    length = len(input)\n",
    "    width = len(input[0])\n",
    "    scoreFacingLR[0][0] = 0\n",
    "    scoreFacingUD[0][0] = 0\n",
    "    nextPoints = [[0,0],[0,0]]\n",
    "    nextDirs = ['LR','UD']\n",
    "    while len(nextPoints) > 0:\n",
    "        point = nextPoints.pop(0)\n",
    "        dir = nextDirs.pop(0)\n",
    "        if dir == 'LR':\n",
    "            scoreOfPoint = scoreFacingUD[point[0]][point[1]]\n",
    "            addedScore = 0\n",
    "            for i in range(1,11):\n",
    "                if point[1] - i < 0:\n",
    "                    break\n",
    "                if i < 4:\n",
    "                    addedScore += input[point[0]][point[1] - i]\n",
    "                    continue\n",
    "                addedScore += input[point[0]][point[1] - i]\n",
    "                if scoreOfPoint + addedScore < scoreFacingLR[point[0]][point[1] - i]:\n",
    "                    scoreFacingLR[point[0]][point[1] - i] = scoreOfPoint + addedScore\n",
    "                    nextPoints.append([point[0], point[1] - i])\n",
    "                    nextDirs.append('UD')\n",
    "            addedScore = 0\n",
    "            for i in range(1,11):\n",
    "                if point[1] + i >= width:\n",
    "                    break\n",
    "                if i < 4:\n",
    "                    addedScore += input[point[0]][point[1] + i]\n",
    "                    continue\n",
    "                addedScore += input[point[0]][point[1] + i]\n",
    "                if scoreOfPoint + addedScore < scoreFacingLR[point[0]][point[1] + i]:\n",
    "                    scoreFacingLR[point[0]][point[1] + i] = scoreOfPoint + addedScore\n",
    "                    nextPoints.append([point[0], point[1] + i])\n",
    "                    nextDirs.append('UD')\n",
    "        else:\n",
    "            scoreOfPoint = scoreFacingLR[point[0]][point[1]]\n",
    "            addedScore = 0\n",
    "            for i in range(1,11):\n",
    "                if point[0] - i < 0:\n",
    "                    break\n",
    "                if i < 4:\n",
    "                    addedScore += input[point[0] - i][point[1]]\n",
    "                    continue\n",
    "                addedScore += input[point[0] - i][point[1]]\n",
    "                if scoreOfPoint + addedScore < scoreFacingUD[point[0] - i][point[1]]:\n",
    "                    scoreFacingUD[point[0] - i][point[1]] = scoreOfPoint + addedScore\n",
    "                    nextPoints.append([point[0] - i, point[1]])\n",
    "                    nextDirs.append('LR')\n",
    "            addedScore = 0\n",
    "            for i in range(1,11):\n",
    "                if point[0] + i >= length:\n",
    "                    break\n",
    "                if i < 4:\n",
    "                    addedScore += input[point[0] + i][point[1]]\n",
    "                    continue\n",
    "                addedScore += input[point[0] + i][point[1]]\n",
    "                if scoreOfPoint + addedScore < scoreFacingUD[point[0] + i][point[1]]:\n",
    "                    scoreFacingUD[point[0] + i][point[1]] = scoreOfPoint + addedScore\n",
    "                    nextPoints.append([point[0] + i, point[1]])\n",
    "                    nextDirs.append('LR')\n",
    "    return min(scoreFacingLR[length - 1][width - 1], scoreFacingUD[length - 1][width - 1])"
   ]
  },
  {
   "cell_type": "code",
   "execution_count": 16,
   "metadata": {},
   "outputs": [
    {
     "data": {
      "text/plain": [
       "94"
      ]
     },
     "execution_count": 16,
     "metadata": {},
     "output_type": "execute_result"
    }
   ],
   "source": [
    "result2(\"example-input.txt\")"
   ]
  },
  {
   "cell_type": "code",
   "execution_count": 17,
   "metadata": {},
   "outputs": [
    {
     "data": {
      "text/plain": [
       "71"
      ]
     },
     "execution_count": 17,
     "metadata": {},
     "output_type": "execute_result"
    }
   ],
   "source": [
    "result2(\"example-input-2.txt\")"
   ]
  },
  {
   "cell_type": "code",
   "execution_count": 18,
   "metadata": {},
   "outputs": [
    {
     "data": {
      "text/plain": [
       "1249"
      ]
     },
     "execution_count": 18,
     "metadata": {},
     "output_type": "execute_result"
    }
   ],
   "source": [
    "result2(\"input.txt\")"
   ]
  }
 ],
 "metadata": {
  "kernelspec": {
   "display_name": "Python 3.9.6 64-bit",
   "language": "python",
   "name": "python3"
  },
  "language_info": {
   "codemirror_mode": {
    "name": "ipython",
    "version": 3
   },
   "file_extension": ".py",
   "mimetype": "text/x-python",
   "name": "python",
   "nbconvert_exporter": "python",
   "pygments_lexer": "ipython3",
   "version": "3.9.6"
  },
  "orig_nbformat": 4,
  "vscode": {
   "interpreter": {
    "hash": "31f2aee4e71d21fbe5cf8b01ff0e069b9275f58929596ceb00d14d90e3e16cd6"
   }
  }
 },
 "nbformat": 4,
 "nbformat_minor": 2
}
