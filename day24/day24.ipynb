{
 "cells": [
  {
   "cell_type": "markdown",
   "metadata": {},
   "source": [
    "# Day 24: Never Tell Me The Odds\n",
    "It seems like something is going wrong with the snow-making process. Instead of forming snow, the water that's been absorbed into the air seems to be forming hail!\n",
    "\n",
    "Maybe there's something you can do to break up the hailstones?\n",
    "\n",
    "Due to strong, probably-magical winds, the hailstones are all flying through the air in perfectly linear trajectories. You make a note of each hailstone's position and velocity (your puzzle input). For example:\n",
    "```\n",
    "19, 13, 30 @ -2,  1, -2\n",
    "18, 19, 22 @ -1, -1, -2\n",
    "20, 25, 34 @ -2, -2, -4\n",
    "12, 31, 28 @ -1, -2, -1\n",
    "20, 19, 15 @  1, -5, -3\n",
    "```\n",
    "Each line of text corresponds to the position and velocity of a single hailstone. The positions indicate where the hailstones are right now (at time 0). The velocities are constant and indicate exactly how far each hailstone will move in one nanosecond.\n",
    "\n",
    "Each line of text uses the format px py pz @ vx vy vz. For instance, the hailstone specified by 20, 19, 15 @ 1, -5, -3 has initial X position 20, Y position 19, Z position 15, X velocity 1, Y velocity -5, and Z velocity -3. After one nanosecond, the hailstone would be at 21, 14, 12.\n",
    "\n",
    "Perhaps you won't have to do anything. How likely are the hailstones to collide with each other and smash into tiny ice crystals?\n",
    "\n",
    "To estimate this, consider only the X and Y axes; ignore the Z axis. Looking forward in time, how many of the hailstones' paths will intersect within a test area? (The hailstones themselves don't have to collide, just test for intersections between the paths they will trace.)\n",
    "\n",
    "In this example, look for intersections that happen with an X and Y position each at least 7 and at most 27; in your actual data, you'll need to check a much larger test area. Comparing all pairs of hailstones' future paths produces the following results:\n",
    "```\n",
    "Hailstone A: 19, 13, 30 @ -2, 1, -2\n",
    "Hailstone B: 18, 19, 22 @ -1, -1, -2\n",
    "Hailstones' paths will cross inside the test area (at x=14.333, y=15.333).\n",
    "\n",
    "Hailstone A: 19, 13, 30 @ -2, 1, -2\n",
    "Hailstone B: 20, 25, 34 @ -2, -2, -4\n",
    "Hailstones' paths will cross inside the test area (at x=11.667, y=16.667).\n",
    "\n",
    "Hailstone A: 19, 13, 30 @ -2, 1, -2\n",
    "Hailstone B: 12, 31, 28 @ -1, -2, -1\n",
    "Hailstones' paths will cross outside the test area (at x=6.2, y=19.4).\n",
    "\n",
    "Hailstone A: 19, 13, 30 @ -2, 1, -2\n",
    "Hailstone B: 20, 19, 15 @ 1, -5, -3\n",
    "Hailstones' paths crossed in the past for hailstone A.\n",
    "\n",
    "Hailstone A: 18, 19, 22 @ -1, -1, -2\n",
    "Hailstone B: 20, 25, 34 @ -2, -2, -4\n",
    "Hailstones' paths are parallel; they never intersect.\n",
    "\n",
    "Hailstone A: 18, 19, 22 @ -1, -1, -2\n",
    "Hailstone B: 12, 31, 28 @ -1, -2, -1\n",
    "Hailstones' paths will cross outside the test area (at x=-6, y=-5).\n",
    "\n",
    "Hailstone A: 18, 19, 22 @ -1, -1, -2\n",
    "Hailstone B: 20, 19, 15 @ 1, -5, -3\n",
    "Hailstones' paths crossed in the past for both hailstones.\n",
    "\n",
    "Hailstone A: 20, 25, 34 @ -2, -2, -4\n",
    "Hailstone B: 12, 31, 28 @ -1, -2, -1\n",
    "Hailstones' paths will cross outside the test area (at x=-2, y=3).\n",
    "\n",
    "Hailstone A: 20, 25, 34 @ -2, -2, -4\n",
    "Hailstone B: 20, 19, 15 @ 1, -5, -3\n",
    "Hailstones' paths crossed in the past for hailstone B.\n",
    "\n",
    "Hailstone A: 12, 31, 28 @ -1, -2, -1\n",
    "Hailstone B: 20, 19, 15 @ 1, -5, -3\n",
    "Hailstones' paths crossed in the past for both hailstones.\n",
    "```\n",
    "So, in this example, 2 hailstones' future paths cross inside the boundaries of the test area.\n",
    "\n",
    "However, you'll need to search a much larger test area if you want to see if any hailstones might collide. Look for intersections that happen with an X and Y position each at least 200000000000000 and at most 400000000000000. Disregard the Z axis entirely.\n",
    "\n",
    "Considering only the X and Y axes, check all pairs of hailstones' future paths for intersections. How many of these intersections occur within the test area?"
   ]
  },
  {
   "cell_type": "code",
   "execution_count": 1,
   "metadata": {},
   "outputs": [],
   "source": [
    "import numpy as np\n",
    "\n",
    "def intersect(Ap, Av, Bp, Bv):\n",
    "    dp = Ap - Bp\n",
    "    dap = np.empty_like(Av)\n",
    "    dap[0] = -Av[1]\n",
    "    dap[1] = Av[0]\n",
    "\n",
    "    dbp = np.empty_like(Bv)\n",
    "    dbp[0] = -Bv[1]\n",
    "    dbp[1] = Bv[0]\n",
    "\n",
    "    denomB = np.dot( dap, Bv)\n",
    "    numB = np.dot( dap, dp )\n",
    "\n",
    "    denomA = np.dot( dbp, Av)\n",
    "    numA = np.dot( dbp, -dp )\n",
    "\n",
    "    s = (numB / denomB.astype(float))\n",
    "    t = (numA / denomA.astype(float))\n",
    "    return s*Bv +Bp, s, t\n",
    "\n",
    "def result(inputfile, least, most):\n",
    "    ps = []\n",
    "    vs = []\n",
    "\n",
    "    with open(inputfile) as f:\n",
    "        for line in f:\n",
    "            p, v = line.strip().split(' @ ')\n",
    "            px, py, _ = p.split(', ')\n",
    "            ps.append(np.array([float(px), float(py)]))\n",
    "            vx, vy, _ = v.split(', ')\n",
    "            vs.append(np.array([float(vx), float(vy)]))\n",
    "    result = 0\n",
    "    for i in range(len(ps) - 1):\n",
    "        for j in range(i+1, len(ps)):\n",
    "            sect, t, s = intersect(ps[i], vs[i], ps[j], vs[j])\n",
    "            if least <= sect[0] <= most and least <= sect[1] <= most and t >= 0 and s >= 0:\n",
    "                #print('{} {} {}'.format(sect, t, s))\n",
    "                result += 1\n",
    "    print(result)"
   ]
  },
  {
   "cell_type": "code",
   "execution_count": 2,
   "metadata": {},
   "outputs": [
    {
     "name": "stdout",
     "output_type": "stream",
     "text": [
      "2\n"
     ]
    },
    {
     "name": "stderr",
     "output_type": "stream",
     "text": [
      "/var/folders/gf/sz_10_bj13b1wbddz0xwrt300000gn/T/ipykernel_93569/3496201185.py:19: RuntimeWarning: divide by zero encountered in double_scalars\n",
      "  s = (numB / denomB.astype(float))\n",
      "/var/folders/gf/sz_10_bj13b1wbddz0xwrt300000gn/T/ipykernel_93569/3496201185.py:20: RuntimeWarning: divide by zero encountered in double_scalars\n",
      "  t = (numA / denomA.astype(float))\n"
     ]
    }
   ],
   "source": [
    "result(\"example-input.txt\", 7, 27)"
   ]
  },
  {
   "cell_type": "code",
   "execution_count": 3,
   "metadata": {},
   "outputs": [
    {
     "name": "stderr",
     "output_type": "stream",
     "text": [
      "/var/folders/gf/sz_10_bj13b1wbddz0xwrt300000gn/T/ipykernel_93569/3496201185.py:19: RuntimeWarning: divide by zero encountered in double_scalars\n",
      "  s = (numB / denomB.astype(float))\n",
      "/var/folders/gf/sz_10_bj13b1wbddz0xwrt300000gn/T/ipykernel_93569/3496201185.py:20: RuntimeWarning: divide by zero encountered in double_scalars\n",
      "  t = (numA / denomA.astype(float))\n"
     ]
    },
    {
     "name": "stdout",
     "output_type": "stream",
     "text": [
      "15558\n"
     ]
    }
   ],
   "source": [
    "result(\"input.txt\", 200000000000000, 400000000000000)"
   ]
  },
  {
   "cell_type": "markdown",
   "metadata": {},
   "source": [
    "### Part Two\n",
    "Upon further analysis, it doesn't seem like any hailstones will naturally collide. It's up to you to fix that!\n",
    "\n",
    "You find a rock on the ground nearby. While it seems extremely unlikely, if you throw it just right, you should be able to hit every hailstone in a single throw!\n",
    "\n",
    "You can use the probably-magical winds to reach any integer position you like and to propel the rock at any integer velocity. Now including the Z axis in your calculations, if you throw the rock at time 0, where do you need to be so that the rock perfectly collides with every hailstone? Due to probably-magical inertia, the rock won't slow down or change direction when it collides with a hailstone.\n",
    "\n",
    "In the example above, you can achieve this by moving to position 24, 13, 10 and throwing the rock at velocity -3, 1, 2. If you do this, you will hit every hailstone as follows:\n",
    "```\n",
    "Hailstone: 19, 13, 30 @ -2, 1, -2\n",
    "Collision time: 5\n",
    "Collision position: 9, 18, 20\n",
    "\n",
    "Hailstone: 18, 19, 22 @ -1, -1, -2\n",
    "Collision time: 3\n",
    "Collision position: 15, 16, 16\n",
    "\n",
    "Hailstone: 20, 25, 34 @ -2, -2, -4\n",
    "Collision time: 4\n",
    "Collision position: 12, 17, 18\n",
    "\n",
    "Hailstone: 12, 31, 28 @ -1, -2, -1\n",
    "Collision time: 6\n",
    "Collision position: 6, 19, 22\n",
    "\n",
    "Hailstone: 20, 19, 15 @ 1, -5, -3\n",
    "Collision time: 1\n",
    "Collision position: 21, 14, 12\n",
    "```\n",
    "Above, each hailstone is identified by its initial position and its velocity. Then, the time and position of that hailstone's collision with your rock are given.\n",
    "\n",
    "After 1 nanosecond, the rock has exactly the same position as one of the hailstones, obliterating it into ice dust! Another hailstone is smashed to bits two nanoseconds after that. After a total of 6 nanoseconds, all of the hailstones have been destroyed.\n",
    "\n",
    "So, at time 0, the rock needs to be at X position 24, Y position 13, and Z position 10. Adding these three coordinates together produces 47. (Don't add any coordinates from the rock's velocity.)\n",
    "\n",
    "Determine the exact position and velocity the rock needs to have at time 0 so that it perfectly collides with every hailstone. What do you get if you add up the X, Y, and Z coordinates of that initial position?"
   ]
  },
  {
   "cell_type": "code",
   "execution_count": 4,
   "metadata": {},
   "outputs": [],
   "source": [
    "from sympy import solve\n",
    "from sympy.abc import a, b, c, s, t, r, x, y, z\n",
    "\n",
    "def result2(inputfile):\n",
    "    ps = []\n",
    "    vs = []\n",
    "\n",
    "    with open(inputfile) as f:\n",
    "        for line in f:\n",
    "            p, v = line.strip().split(' @ ')\n",
    "            px, py, pz = p.split(', ')\n",
    "            ps.append(np.array([float(px), float(py), float(pz)]))\n",
    "            vx, vy, vz = v.split(', ')\n",
    "            vs.append(np.array([float(vx), float(vy), float(vz)]))\n",
    "    \n",
    "    equations = [\n",
    "        a + t * x - t * vs[0][0] - ps[0][0],\n",
    "        b + t * y - t * vs[0][1] - ps[0][1],\n",
    "        c + t * z - t * vs[0][2] - ps[0][2],\n",
    "        a + s * x - s * vs[1][0] - ps[1][0],\n",
    "        b + s * y - s * vs[1][1] - ps[1][1],\n",
    "        c + s * z - s * vs[1][2] - ps[1][2],\n",
    "        a + r * x - r * vs[2][0] - ps[2][0],\n",
    "        b + r * y - r * vs[2][1] - ps[2][1],\n",
    "        c + r * z - r * vs[2][2] - ps[2][2],\n",
    "    ]\n",
    "\n",
    "    return solve(equations)\n",
    "    \n",
    "            "
   ]
  },
  {
   "cell_type": "code",
   "execution_count": 5,
   "metadata": {},
   "outputs": [
    {
     "data": {
      "text/plain": [
       "[{a: 159417177895037.,\n",
       "  b: 391842070130986.,\n",
       "  c: 214376796307819.,\n",
       "  r: 178128108482.000,\n",
       "  s: 554254222135.000,\n",
       "  t: 619011690119.000,\n",
       "  x: 209.000000000000,\n",
       "  y: -180.000000000000,\n",
       "  z: 112.000000000000}]"
      ]
     },
     "execution_count": 5,
     "metadata": {},
     "output_type": "execute_result"
    }
   ],
   "source": [
    "result2(\"input.txt\")"
   ]
  },
  {
   "cell_type": "code",
   "execution_count": 6,
   "metadata": {},
   "outputs": [
    {
     "data": {
      "text/plain": [
       "765636044333842"
      ]
     },
     "execution_count": 6,
     "metadata": {},
     "output_type": "execute_result"
    }
   ],
   "source": [
    "159417177895037 + 391842070130986 + 214376796307819"
   ]
  }
 ],
 "metadata": {
  "kernelspec": {
   "display_name": "Python 3.10.6 ('node')",
   "language": "python",
   "name": "python3"
  },
  "language_info": {
   "codemirror_mode": {
    "name": "ipython",
    "version": 3
   },
   "file_extension": ".py",
   "mimetype": "text/x-python",
   "name": "python",
   "nbconvert_exporter": "python",
   "pygments_lexer": "ipython3",
   "version": "3.10.6"
  },
  "orig_nbformat": 4,
  "vscode": {
   "interpreter": {
    "hash": "344a5880318d1c82d2412b5b750165c5899e1ed0b231e88a1f55754901b30180"
   }
  }
 },
 "nbformat": 4,
 "nbformat_minor": 2
}
