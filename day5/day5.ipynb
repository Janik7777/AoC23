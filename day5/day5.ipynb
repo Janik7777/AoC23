{
 "cells": [
  {
   "cell_type": "markdown",
   "metadata": {},
   "source": [
    "# Day 5: If You Give A Seed A Fertilizer\n",
    "You take the boat and find the gardener right where you were told he would be: managing a giant \"garden\" that looks more to you like a farm.\n",
    "\n",
    "\"A water source? Island Island is the water source!\" You point out that Snow Island isn't receiving any water.\n",
    "\n",
    "\"Oh, we had to stop the water because we ran out of sand to filter it with! Can't make snow with dirty water. Don't worry, I'm sure we'll get more sand soon; we only turned off the water a few days... weeks... oh no.\" His face sinks into a look of horrified realization.\n",
    "\n",
    "\"I've been so busy making sure everyone here has food that I completely forgot to check why we stopped getting more sand! There's a ferry leaving soon that is headed over in that direction - it's much faster than your boat. Could you please go check it out?\"\n",
    "\n",
    "You barely have time to agree to this request when he brings up another. \"While you wait for the ferry, maybe you can help us with our food production problem. The latest Island Island Almanac just arrived and we're having trouble making sense of it.\"\n",
    "\n",
    "The almanac (your puzzle input) lists all of the seeds that need to be planted. It also lists what type of soil to use with each kind of seed, what type of fertilizer to use with each kind of soil, what type of water to use with each kind of fertilizer, and so on. Every type of seed, soil, fertilizer and so on is identified with a number, but numbers are reused by each category - that is, soil 123 and fertilizer 123 aren't necessarily related to each other.\n",
    "\n",
    "For example:\n",
    "```\n",
    "seeds: 79 14 55 13\n",
    "\n",
    "seed-to-soil map:\n",
    "50 98 2\n",
    "52 50 48\n",
    "\n",
    "soil-to-fertilizer map:\n",
    "0 15 37\n",
    "37 52 2\n",
    "39 0 15\n",
    "\n",
    "fertilizer-to-water map:\n",
    "49 53 8\n",
    "0 11 42\n",
    "42 0 7\n",
    "57 7 4\n",
    "\n",
    "water-to-light map:\n",
    "88 18 7\n",
    "18 25 70\n",
    "\n",
    "light-to-temperature map:\n",
    "45 77 23\n",
    "81 45 19\n",
    "68 64 13\n",
    "\n",
    "temperature-to-humidity map:\n",
    "0 69 1\n",
    "1 0 69\n",
    "\n",
    "humidity-to-location map:\n",
    "60 56 37\n",
    "56 93 4\n",
    "```\n",
    "The almanac starts by listing which seeds need to be planted: seeds 79, 14, 55, and 13.\n",
    "\n",
    "The rest of the almanac contains a list of maps which describe how to convert numbers from a source category into numbers in a destination category. That is, the section that starts with seed-to-soil map: describes how to convert a seed number (the source) to a soil number (the destination). This lets the gardener and his team know which soil to use with which seeds, which water to use with which fertilizer, and so on.\n",
    "\n",
    "Rather than list every source number and its corresponding destination number one by one, the maps describe entire ranges of numbers that can be converted. Each line within a map contains three numbers: the destination range start, the source range start, and the range length.\n",
    "\n",
    "Consider again the example seed-to-soil map:\n",
    "```\n",
    "50 98 2\n",
    "52 50 48\n",
    "```\n",
    "The first line has a destination range start of 50, a source range start of 98, and a range length of 2. This line means that the source range starts at 98 and contains two values: 98 and 99. The destination range is the same length, but it starts at 50, so its two values are 50 and 51. With this information, you know that seed number 98 corresponds to soil number 50 and that seed number 99 corresponds to soil number 51.\n",
    "\n",
    "The second line means that the source range starts at 50 and contains 48 values: 50, 51, ..., 96, 97. This corresponds to a destination range starting at 52 and also containing 48 values: 52, 53, ..., 98, 99. So, seed number 53 corresponds to soil number 55.\n",
    "\n",
    "Any source numbers that aren't mapped correspond to the same destination number. So, seed number 10 corresponds to soil number 10.\n",
    "\n",
    "So, the entire list of seed numbers and their corresponding soil numbers looks like this:\n",
    "```\n",
    "seed  soil\n",
    "0     0\n",
    "1     1\n",
    "...   ...\n",
    "48    48\n",
    "49    49\n",
    "50    52\n",
    "51    53\n",
    "...   ...\n",
    "96    98\n",
    "97    99\n",
    "98    50\n",
    "99    51\n",
    "```\n",
    "With this map, you can look up the soil number required for each initial seed number:\n",
    "```\n",
    "Seed number 79 corresponds to soil number 81.\n",
    "Seed number 14 corresponds to soil number 14.\n",
    "Seed number 55 corresponds to soil number 57.\n",
    "Seed number 13 corresponds to soil number 13.\n",
    "```\n",
    "The gardener and his team want to get started as soon as possible, so they'd like to know the closest location that needs a seed. Using these maps, find the lowest location number that corresponds to any of the initial seeds. To do this, you'll need to convert each seed number through other categories until you can find its corresponding location number. In this example, the corresponding types are:\n",
    "```\n",
    "Seed 79, soil 81, fertilizer 81, water 81, light 74, temperature 78, humidity 78, location 82.\n",
    "Seed 14, soil 14, fertilizer 53, water 49, light 42, temperature 42, humidity 43, location 43.\n",
    "Seed 55, soil 57, fertilizer 57, water 53, light 46, temperature 82, humidity 82, location 86.\n",
    "Seed 13, soil 13, fertilizer 52, water 41, light 34, temperature 34, humidity 35, location 35.\n",
    "```\n",
    "So, the lowest location number in this example is 35.\n",
    "\n",
    "What is the lowest location number that corresponds to any of the initial seed numbers?"
   ]
  },
  {
   "cell_type": "code",
   "execution_count": 28,
   "metadata": {},
   "outputs": [],
   "source": [
    "def use_map(input, rules):\n",
    "    for rule in rules:\n",
    "        if 0 <= input - rule[1] < rule[2]:\n",
    "            return rule[0] + input - rule[1]\n",
    "    return input\n",
    "\n",
    "def result(inputfile):\n",
    "\n",
    "    with open(inputfile) as f:\n",
    "        lines = f.readlines()\n",
    "    seeds = [int(seed) for seed in lines[0].strip().split()[1:]]\n",
    "    \n",
    "    maps = []\n",
    "    rules = []\n",
    "    for i in range(2, len(lines)):\n",
    "        if len(lines[i].strip()) == 0:\n",
    "            maps.append(rules.copy())\n",
    "            continue\n",
    "        if lines[i].strip().endswith('map:'):\n",
    "            rules = []\n",
    "            continue\n",
    "        rules.append([int(entry) for entry in lines[i].strip().split()])\n",
    "    maps.append(rules.copy())\n",
    "    \n",
    "    array = seeds\n",
    "    #print(array)\n",
    "    for map in maps:\n",
    "        array = [use_map(input, map) for input in array]\n",
    "        #print(array)\n",
    "    return min(array)\n"
   ]
  },
  {
   "cell_type": "code",
   "execution_count": 29,
   "metadata": {},
   "outputs": [
    {
     "data": {
      "text/plain": [
       "35"
      ]
     },
     "execution_count": 29,
     "metadata": {},
     "output_type": "execute_result"
    }
   ],
   "source": [
    "result(\"example-input.txt\")"
   ]
  },
  {
   "cell_type": "code",
   "execution_count": 30,
   "metadata": {},
   "outputs": [
    {
     "data": {
      "text/plain": [
       "484023871"
      ]
     },
     "execution_count": 30,
     "metadata": {},
     "output_type": "execute_result"
    }
   ],
   "source": [
    "result(\"input.txt\")"
   ]
  },
  {
   "cell_type": "markdown",
   "metadata": {},
   "source": [
    "# Part Two\n",
    "Everyone will starve if you only plant such a small number of seeds. Re-reading the almanac, it looks like the seeds: line actually describes ranges of seed numbers.\n",
    "\n",
    "The values on the initial seeds: line come in pairs. Within each pair, the first value is the start of the range and the second value is the length of the range. So, in the first line of the example above:\n",
    "\n",
    "seeds: 79 14 55 13\n",
    "This line describes two ranges of seed numbers to be planted in the garden. The first range starts with seed number 79 and contains 14 values: 79, 80, ..., 91, 92. The second range starts with seed number 55 and contains 13 values: 55, 56, ..., 66, 67.\n",
    "\n",
    "Now, rather than considering four seed numbers, you need to consider a total of 27 seed numbers.\n",
    "\n",
    "In the above example, the lowest location number can be obtained from seed number 82, which corresponds to soil 84, fertilizer 84, water 84, light 77, temperature 45, humidity 46, and location 46. So, the lowest location number is 46.\n",
    "\n",
    "Consider all of the initial seed numbers listed in the ranges on the first line of the almanac. What is the lowest location number that corresponds to any of the initial seed numbers?"
   ]
  },
  {
   "cell_type": "code",
   "execution_count": 79,
   "metadata": {},
   "outputs": [],
   "source": [
    "def use_map_on_range(inputRange, rules):\n",
    "    for rule in rules:\n",
    "        if 0 <= inputRange[0] - rule[1] < rule[2]:\n",
    "            if 0 <= (inputRange[0] + inputRange[1] - 1) - rule[1] < rule[2]:\n",
    "                newRange = [[rule[0] + inputRange[0] - rule[1], inputRange[1]]]\n",
    "                return newRange\n",
    "            else:\n",
    "                #cut range in 2:\n",
    "                range1Start = rule[0] + inputRange[0] - rule[1]\n",
    "                range1Len = rule[2] - (inputRange[0] - rule[1])\n",
    "                range2Start = inputRange[0] + range1Len\n",
    "                range2Len = inputRange[1] - range1Len\n",
    "                range1 = [range1Start, range1Len]\n",
    "                range2 = [range2Start, range2Len]\n",
    "                newRanges2 = use_map_on_range(range2, rules)\n",
    "                ranges = [range1] + newRanges2\n",
    "                return ranges\n",
    "\n",
    "        elif 0 <= (inputRange[0] + inputRange[1] - 1) - rule[1] < rule[2]:\n",
    "            # cut range in 2:\n",
    "            range1Start = inputRange[0]\n",
    "            range1Len = rule[1] - inputRange[0]\n",
    "            range2Start = rule[0]\n",
    "            range2Len = inputRange[1] - range1Len\n",
    "            range1 = [range1Start, range1Len]\n",
    "            range2 = [range2Start, range2Len]\n",
    "            ranges = [range2] + use_map_on_range(range1, rules)\n",
    "            return ranges\n",
    "\n",
    "    return [inputRange]\n",
    "\n",
    "def result2(inputfile):\n",
    "\n",
    "    with open(inputfile) as f:\n",
    "        lines = f.readlines()\n",
    "    seeds = [int(seed) for seed in lines[0].strip().split()[1:]]\n",
    "    seed_ranges = []\n",
    "    for i in range(len(seeds)//2):\n",
    "        seed_ranges.append([seeds[2 * i], seeds[2*i + 1]])\n",
    "    \n",
    "    maps = []\n",
    "    rules = []\n",
    "    for i in range(2, len(lines)):\n",
    "        if len(lines[i].strip()) == 0:\n",
    "            maps.append(rules.copy())\n",
    "            continue\n",
    "        if lines[i].strip().endswith('map:'):\n",
    "            rules = []\n",
    "            continue\n",
    "        rules.append([int(entry) for entry in lines[i].strip().split()])\n",
    "    maps.append(rules.copy())\n",
    "    \n",
    "    array = seed_ranges\n",
    "    #print(array)\n",
    "    for map in maps:\n",
    "        new_array = []\n",
    "        for inputRange in array:\n",
    "            if len(new_array) == 0:\n",
    "                new_array = use_map_on_range(inputRange, map)\n",
    "            else:\n",
    "                new_array.extend(use_map_on_range(inputRange, map))\n",
    "        array = new_array\n",
    "        #print(array)\n",
    "    return min([entry[0] for entry in array])"
   ]
  },
  {
   "cell_type": "code",
   "execution_count": 77,
   "metadata": {},
   "outputs": [
    {
     "name": "stdout",
     "output_type": "stream",
     "text": [
      "[[79, 14], [55, 13]]\n",
      "[[81, 14], [57, 13]]\n",
      "[[81, 14], [57, 13]]\n",
      "[[81, 14], [53, 4], [61, 9]]\n",
      "[[74, 14], [46, 4], [54, 9]]\n",
      "[[45, 11], [78, 3], [82, 4], [90, 9]]\n",
      "[[46, 11], [78, 3], [82, 4], [90, 9]]\n",
      "[[60, 1], [46, 10], [82, 3], [86, 4], [94, 3], [56, 4], [97, 2]]\n"
     ]
    },
    {
     "data": {
      "text/plain": [
       "46"
      ]
     },
     "execution_count": 77,
     "metadata": {},
     "output_type": "execute_result"
    }
   ],
   "source": [
    "result2(\"example-input.txt\")"
   ]
  },
  {
   "cell_type": "code",
   "execution_count": 80,
   "metadata": {},
   "outputs": [
    {
     "data": {
      "text/plain": [
       "46294175"
      ]
     },
     "execution_count": 80,
     "metadata": {},
     "output_type": "execute_result"
    }
   ],
   "source": [
    "result2(\"input.txt\")"
   ]
  }
 ],
 "metadata": {
  "kernelspec": {
   "display_name": "Python 3.9.6 64-bit",
   "language": "python",
   "name": "python3"
  },
  "language_info": {
   "codemirror_mode": {
    "name": "ipython",
    "version": 3
   },
   "file_extension": ".py",
   "mimetype": "text/x-python",
   "name": "python",
   "nbconvert_exporter": "python",
   "pygments_lexer": "ipython3",
   "version": "3.9.6"
  },
  "orig_nbformat": 4,
  "vscode": {
   "interpreter": {
    "hash": "31f2aee4e71d21fbe5cf8b01ff0e069b9275f58929596ceb00d14d90e3e16cd6"
   }
  }
 },
 "nbformat": 4,
 "nbformat_minor": 2
}
