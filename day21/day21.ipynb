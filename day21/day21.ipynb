{
 "cells": [
  {
   "cell_type": "markdown",
   "metadata": {},
   "source": [
    "# Day 21: Step Counter\n",
    "You manage to catch the airship right as it's dropping someone else off on their all-expenses-paid trip to Desert Island! It even helpfully drops you off near the gardener and his massive farm.\n",
    "\n",
    "\"You got the sand flowing again! Great work! Now we just need to wait until we have enough sand to filter the water for Snow Island and we'll have snow again in no time.\"\n",
    "\n",
    "While you wait, one of the Elves that works with the gardener heard how good you are at solving problems and would like your help. He needs to get his steps in for the day, and so he'd like to know which garden plots he can reach with exactly his remaining 64 steps.\n",
    "\n",
    "He gives you an up-to-date map (your puzzle input) of his starting position (S), garden plots (.), and rocks (#). For example:\n",
    "```\n",
    "...........\n",
    ".....###.#.\n",
    ".###.##..#.\n",
    "..#.#...#..\n",
    "....#.#....\n",
    ".##..S####.\n",
    ".##..#...#.\n",
    ".......##..\n",
    ".##.#.####.\n",
    ".##..##.##.\n",
    "...........\n",
    "```\n",
    "The Elf starts at the starting position (S) which also counts as a garden plot. Then, he can take one step north, south, east, or west, but only onto tiles that are garden plots. This would allow him to reach any of the tiles marked O:\n",
    "```\n",
    "...........\n",
    ".....###.#.\n",
    ".###.##..#.\n",
    "..#.#...#..\n",
    "....#O#....\n",
    ".##.OS####.\n",
    ".##..#...#.\n",
    ".......##..\n",
    ".##.#.####.\n",
    ".##..##.##.\n",
    "...........\n",
    "```\n",
    "Then, he takes a second step. Since at this point he could be at either tile marked O, his second step would allow him to reach any garden plot that is one step north, south, east, or west of any tile that he could have reached after the first step:\n",
    "```\n",
    "...........\n",
    ".....###.#.\n",
    ".###.##..#.\n",
    "..#.#O..#..\n",
    "....#.#....\n",
    ".##O.O####.\n",
    ".##.O#...#.\n",
    ".......##..\n",
    ".##.#.####.\n",
    ".##..##.##.\n",
    "...........\n",
    "```\n",
    "After two steps, he could be at any of the tiles marked O above, including the starting position (either by going north-then-south or by going west-then-east).\n",
    "\n",
    "A single third step leads to even more possibilities:\n",
    "```\n",
    "...........\n",
    ".....###.#.\n",
    ".###.##..#.\n",
    "..#.#.O.#..\n",
    "...O#O#....\n",
    ".##.OS####.\n",
    ".##O.#...#.\n",
    "....O..##..\n",
    ".##.#.####.\n",
    ".##..##.##.\n",
    "...........\n",
    "```\n",
    "He will continue like this until his steps for the day have been exhausted. After a total of 6 steps, he could reach any of the garden plots marked O:\n",
    "```\n",
    "...........\n",
    ".....###.#.\n",
    ".###.##.O#.\n",
    ".O#O#O.O#..\n",
    "O.O.#.#.O..\n",
    ".##O.O####.\n",
    ".##.O#O..#.\n",
    ".O.O.O.##..\n",
    ".##.#.####.\n",
    ".##O.##.##.\n",
    "...........\n",
    "```\n",
    "In this example, if the Elf's goal was to get exactly 6 more steps today, he could use them to reach any of 16 garden plots.\n",
    "\n",
    "However, the Elf actually needs to get 64 steps today, and the map he's handed you is much larger than the example map.\n",
    "\n",
    "Starting from the garden plot marked S on your map, how many garden plots could the Elf reach in exactly 64 steps?"
   ]
  },
  {
   "cell_type": "code",
   "execution_count": 67,
   "metadata": {},
   "outputs": [],
   "source": [
    "def result(inputfile, steps, start = None, startcolour = \"w\"):\n",
    "\n",
    "    input = []\n",
    "\n",
    "    with open(inputfile) as f:\n",
    "        for line in f:\n",
    "            input.append([*line.strip()])\n",
    "    length = len(input)\n",
    "    width = len(input[0])\n",
    "    if start == None:\n",
    "        for i, line in enumerate(input):\n",
    "            if 'S' in line:\n",
    "                start = [i, line.index('S')]\n",
    "                break\n",
    "\n",
    "    def neighbours(tile):\n",
    "        x,y = tile\n",
    "        neighbours = [[x + 1,y],[x - 1,y],[x,y + 1],[x,y- 1]]\n",
    "        return [n for n in neighbours if 0 <= n[0] < length and 0 <= n[1] < width]\n",
    "\n",
    "    whites = [start]\n",
    "    blacks = []\n",
    "    recentWhites = [start]\n",
    "    recentBlacks = []\n",
    "    for i in range(steps):\n",
    "        if i % 2 == 0:\n",
    "            for tile in recentWhites:\n",
    "                for neighbour in neighbours(tile):\n",
    "                    if input[neighbour[0]][neighbour[1]] != '#' and neighbour not in blacks:\n",
    "                        blacks.append(neighbour)\n",
    "                        recentBlacks.append(neighbour)\n",
    "            recentWhites = []\n",
    "        else:\n",
    "            for tile in recentBlacks:\n",
    "                for neighbour in neighbours(tile):\n",
    "                    if input[neighbour[0]][neighbour[1]] != '#' and neighbour not in whites:\n",
    "                        whites.append(neighbour)\n",
    "                        recentWhites.append(neighbour)\n",
    "            recentBlacks = []\n",
    "    if (steps % 2 == 0) == (startcolour == \"w\"):\n",
    "        return len(whites)\n",
    "    else:\n",
    "        return len(blacks)"
   ]
  },
  {
   "cell_type": "code",
   "execution_count": 4,
   "metadata": {},
   "outputs": [
    {
     "data": {
      "text/plain": [
       "16"
      ]
     },
     "execution_count": 4,
     "metadata": {},
     "output_type": "execute_result"
    }
   ],
   "source": [
    "result(\"example-input.txt\", 6)"
   ]
  },
  {
   "cell_type": "code",
   "execution_count": 48,
   "metadata": {},
   "outputs": [
    {
     "data": {
      "text/plain": [
       "3615"
      ]
     },
     "execution_count": 48,
     "metadata": {},
     "output_type": "execute_result"
    }
   ],
   "source": [
    "result(\"input.txt\", 64)"
   ]
  },
  {
   "cell_type": "markdown",
   "metadata": {},
   "source": [
    "### Part Two\n",
    "The Elf seems confused by your answer until he realizes his mistake: he was reading from a list of his favorite numbers that are both perfect squares and perfect cubes, not his step counter.\n",
    "\n",
    "The actual number of steps he needs to get today is exactly 26501365.\n",
    "\n",
    "He also points out that the garden plots and rocks are set up so that the map repeats infinitely in every direction.\n",
    "\n",
    "So, if you were to look one additional map-width or map-height out from the edge of the example map above, you would find that it keeps repeating:\n",
    "```\n",
    ".................................\n",
    ".....###.#......###.#......###.#.\n",
    ".###.##..#..###.##..#..###.##..#.\n",
    "..#.#...#....#.#...#....#.#...#..\n",
    "....#.#........#.#........#.#....\n",
    ".##...####..##...####..##...####.\n",
    ".##..#...#..##..#...#..##..#...#.\n",
    ".......##.........##.........##..\n",
    ".##.#.####..##.#.####..##.#.####.\n",
    ".##..##.##..##..##.##..##..##.##.\n",
    ".................................\n",
    ".................................\n",
    ".....###.#......###.#......###.#.\n",
    ".###.##..#..###.##..#..###.##..#.\n",
    "..#.#...#....#.#...#....#.#...#..\n",
    "....#.#........#.#........#.#....\n",
    ".##...####..##..S####..##...####.\n",
    ".##..#...#..##..#...#..##..#...#.\n",
    ".......##.........##.........##..\n",
    ".##.#.####..##.#.####..##.#.####.\n",
    ".##..##.##..##..##.##..##..##.##.\n",
    ".................................\n",
    ".................................\n",
    ".....###.#......###.#......###.#.\n",
    ".###.##..#..###.##..#..###.##..#.\n",
    "..#.#...#....#.#...#....#.#...#..\n",
    "....#.#........#.#........#.#....\n",
    ".##...####..##...####..##...####.\n",
    ".##..#...#..##..#...#..##..#...#.\n",
    ".......##.........##.........##..\n",
    ".##.#.####..##.#.####..##.#.####.\n",
    ".##..##.##..##..##.##..##..##.##.\n",
    ".................................\n",
    "```\n",
    "This is just a tiny three-map-by-three-map slice of the inexplicably-infinite farm layout; garden plots and rocks repeat as far as you can see. The Elf still starts on the one middle tile marked S, though - every other repeated S is replaced with a normal garden plot (.).\n",
    "\n",
    "Here are the number of reachable garden plots in this new infinite version of the example map for different numbers of steps:\n",
    "\n",
    "- In exactly 6 steps, he can still reach 16 garden plots.\n",
    "- In exactly 10 steps, he can reach any of 50 garden plots.\n",
    "- In exactly 50 steps, he can reach 1594 garden plots.\n",
    "- In exactly 100 steps, he can reach 6536 garden plots.\n",
    "- In exactly 500 steps, he can reach 167004 garden plots.\n",
    "- In exactly 1000 steps, he can reach 668697 garden plots.\n",
    "- In exactly 5000 steps, he can reach 16733044 garden plots.\n",
    "\n",
    "However, the step count the Elf needs is much larger! Starting from the garden plot marked S on your infinite map, how many garden plots could the Elf reach in exactly 26501365 steps?"
   ]
  },
  {
   "cell_type": "code",
   "execution_count": 78,
   "metadata": {},
   "outputs": [],
   "source": [
    "def analyze(inputfile):\n",
    "\n",
    "    input = []\n",
    "    hashes = 0\n",
    "    with open(inputfile) as f:\n",
    "        for line in f:\n",
    "            input.append([*line.strip()])\n",
    "            hashes += line.count('#')\n",
    "    length = len(input)\n",
    "    width = len(input[0])\n",
    "    for i, line in enumerate(input):\n",
    "        if 'S' in line:\n",
    "            s = [i, line.index('S')]\n",
    "            break\n",
    "    \n",
    "    print(\"S-row: \" + str(''.join(input[s[0]])))\n",
    "    print(\"S-column: \" + str(''.join([line[s[1]] for line in input])))\n",
    "\n",
    "    print(\"length: \" + str(length))\n",
    "    print(\"width: \" + str(width))\n",
    "    print(\"S: \" + str(s))\n",
    "    print(\"steps left after reaching last S: \" + str(26501365 % length))\n",
    "\n",
    "    # get Time until full\n",
    "    print(\"amount stones: \" + str(hashes))\n",
    "    amountTiles = length*width - hashes\n",
    "    print(\"amount no stones: \" + str(amountTiles))\n",
    "\n",
    "    def neighbours(tile):\n",
    "        x,y = tile\n",
    "        neighbours = [[x + 1,y],[x - 1,y],[x,y + 1],[x,y- 1]]\n",
    "        return [n for n in neighbours if 0 <= n[0] < length and 0 <= n[1] < width]\n",
    "\n",
    "    whites = [s]\n",
    "    blacks = []\n",
    "    recentWhites = [s]\n",
    "    recentBlacks = []\n",
    "    i = 0\n",
    "    noNewWhites = False\n",
    "    noNewBlacks = False\n",
    "    while(not(noNewWhites and noNewBlacks)):\n",
    "        if i % 2 == 0:\n",
    "            for tile in recentWhites:\n",
    "                for neighbour in neighbours(tile):\n",
    "                    if input[neighbour[0]][neighbour[1]] != '#' and neighbour not in blacks:\n",
    "                        blacks.append(neighbour)\n",
    "                        recentBlacks.append(neighbour)\n",
    "            if len(recentWhites) == 0:\n",
    "                noNewWhites = True\n",
    "            recentWhites = []\n",
    "        else:\n",
    "            for tile in recentBlacks:\n",
    "                for neighbour in neighbours(tile):\n",
    "                    if input[neighbour[0]][neighbour[1]] != '#' and neighbour not in whites:\n",
    "                        whites.append(neighbour)\n",
    "                        recentWhites.append(neighbour)\n",
    "            if len(recentBlacks) == 0:\n",
    "                noNewBlacks = True\n",
    "            recentBlacks = []\n",
    "        i += 1\n",
    "    print(\"time until fully explored: \" + str(i))\n",
    "    print(\"amount rechable white tiles: \" + str(len(whites)))\n",
    "    print(\"amount rechable black tiles: \" + str(len(blacks)))\n",
    "    print(\"amount rechable tiles: \" + str(len(whites) + len(blacks)))"
   ]
  },
  {
   "cell_type": "code",
   "execution_count": 79,
   "metadata": {},
   "outputs": [
    {
     "name": "stdout",
     "output_type": "stream",
     "text": [
      "S-row: .................................................................S.................................................................\n",
      "S-column: .................................................................S.................................................................\n",
      "length: 131\n",
      "width: 131\n",
      "S: [65, 65]\n",
      "steps left after reaching last S: 65\n",
      "amount stones: 2422\n",
      "amount no stones: 14739\n",
      "time until fully explored: 133\n",
      "amount rechable white tiles: 7354\n",
      "amount rechable black tiles: 7362\n",
      "amount rechable tiles: 14716\n"
     ]
    }
   ],
   "source": [
    "analyze(\"input.txt\")"
   ]
  },
  {
   "cell_type": "markdown",
   "metadata": {},
   "source": [
    "This means we get to the endpoint of a copy in each direction"
   ]
  },
  {
   "cell_type": "code",
   "execution_count": 27,
   "metadata": {},
   "outputs": [
    {
     "data": {
      "text/plain": [
       "202300.4961832061"
      ]
     },
     "execution_count": 27,
     "metadata": {},
     "output_type": "execute_result"
    }
   ],
   "source": [
    "26501365 / 131"
   ]
  },
  {
   "cell_type": "markdown",
   "metadata": {},
   "source": [
    "We can traverse through 202300 copies in every direction.\n",
    "\n",
    "Each copy has a different polarity then the neibouring ones.\n",
    "\n",
    "The original returns its black tiles after a uneven number of steps.\n",
    "\n",
    "The neighbouring 4 copies return their white tiles after the uneven number of steps.\n",
    "\n",
    "The 8 neighbours of them \"are\" black again.\n",
    "\n",
    "Their 12 neigbours are white agian.\n",
    "\n",
    "In each new layer of copies we have 4*i new copies. We can go though 202299 layers until we reach the final layer that has to be treated specially because it wont be fully explored.\n",
    "\n",
    "The other ones are all fully explored because you have at least 131 + 65 = 196 steps to explore them and 196 >= 133 which is the time until we are fully explored."
   ]
  },
  {
   "cell_type": "code",
   "execution_count": 80,
   "metadata": {},
   "outputs": [
    {
     "name": "stdout",
     "output_type": "stream",
     "text": [
      "amount white layers: 40925290000\n",
      "amount black layers: 40924885401\n",
      "solution except final layer: 602253588982162\n"
     ]
    }
   ],
   "source": [
    "amountWhiteLayers = 0\n",
    "amountBlackLayers = 1 #original\n",
    "\n",
    "for i in range(1,202300):\n",
    "    if i%2 == 0:\n",
    "        amountBlackLayers += 4*i\n",
    "    else:\n",
    "        amountWhiteLayers += 4*i\n",
    "print(\"amount white layers: \" + str(amountWhiteLayers))\n",
    "print(\"amount black layers: \" + str(amountBlackLayers))\n",
    "print(\"solution except final layer: \" + str(amountWhiteLayers * 7354 + amountBlackLayers * 7362))"
   ]
  },
  {
   "cell_type": "code",
   "execution_count": 82,
   "metadata": {},
   "outputs": [
    {
     "name": "stdout",
     "output_type": "stream",
     "text": [
      "22192 3739 25820\n"
     ]
    }
   ],
   "source": [
    "a1 = result(\"input.txt\",130,[0,65])\n",
    "a2 = result(\"input.txt\",130,[65,0])\n",
    "a3 = result(\"input.txt\",130,[130,65])\n",
    "a4 = result(\"input.txt\",130,[65,130])\n",
    "b1 = result(\"input.txt\",64,[0,0])\n",
    "b2 = result(\"input.txt\",64,[0,130])\n",
    "b3 = result(\"input.txt\",64,[130,130])\n",
    "b4 = result(\"input.txt\",64,[130,0])\n",
    "c1 = result(\"input.txt\",195,[0,0])\n",
    "c2 = result(\"input.txt\",195,[0,130])\n",
    "c3 = result(\"input.txt\",195,[130,130])\n",
    "c4 = result(\"input.txt\",195,[130,0])\n",
    "a = a1 + a2 + a3 + a4\n",
    "b = b1 + b2 + b3 + b4\n",
    "c = c1 + c2 + c3 + c4\n",
    "print(a, b, c)"
   ]
  },
  {
   "cell_type": "markdown",
   "metadata": {},
   "source": [
    "We reach the `a` copies exactly 1 time, the `b` copies 202300 times and the `c` copies 202299 times."
   ]
  },
  {
   "cell_type": "markdown",
   "metadata": {},
   "source": [
    "![title](copy_explanation.png)"
   ]
  },
  {
   "cell_type": "code",
   "execution_count": 83,
   "metadata": {},
   "outputs": [
    {
     "data": {
      "text/plain": [
       "602259568764234"
      ]
     },
     "execution_count": 83,
     "metadata": {},
     "output_type": "execute_result"
    }
   ],
   "source": [
    "602253588982162 + a + 202300 * b + 202299 * c"
   ]
  }
 ],
 "metadata": {
  "kernelspec": {
   "display_name": "Python 3.9.6 64-bit",
   "language": "python",
   "name": "python3"
  },
  "language_info": {
   "codemirror_mode": {
    "name": "ipython",
    "version": 3
   },
   "file_extension": ".py",
   "mimetype": "text/x-python",
   "name": "python",
   "nbconvert_exporter": "python",
   "pygments_lexer": "ipython3",
   "version": "3.9.6"
  },
  "orig_nbformat": 4,
  "vscode": {
   "interpreter": {
    "hash": "31f2aee4e71d21fbe5cf8b01ff0e069b9275f58929596ceb00d14d90e3e16cd6"
   }
  }
 },
 "nbformat": 4,
 "nbformat_minor": 2
}
