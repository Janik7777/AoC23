{
 "cells": [
  {
   "cell_type": "markdown",
   "metadata": {},
   "source": [
    "# Day 11: Cosmic Expansion\n",
    "You continue following signs for \"Hot Springs\" and eventually come across an observatory. The Elf within turns out to be a researcher studying cosmic expansion using the giant telescope here.\n",
    "\n",
    "He doesn't know anything about the missing machine parts; he's only visiting for this research project. However, he confirms that the hot springs are the next-closest area likely to have people; he'll even take you straight there once he's done with today's observation analysis.\n",
    "\n",
    "Maybe you can help him with the analysis to speed things up?\n",
    "\n",
    "The researcher has collected a bunch of data and compiled the data into a single giant image (your puzzle input). The image includes empty space (.) and galaxies (#). For example:\n",
    "```\n",
    "...#......\n",
    ".......#..\n",
    "#.........\n",
    "..........\n",
    "......#...\n",
    ".#........\n",
    ".........#\n",
    "..........\n",
    ".......#..\n",
    "#...#.....\n",
    "```\n",
    "The researcher is trying to figure out the sum of the lengths of the shortest path between every pair of galaxies. However, there's a catch: the universe expanded in the time it took the light from those galaxies to reach the observatory.\n",
    "\n",
    "Due to something involving gravitational effects, only some space expands. In fact, the result is that any rows or columns that contain no galaxies should all actually be twice as big.\n",
    "\n",
    "In the above example, three columns and two rows contain no galaxies:\n",
    "```\n",
    "   v  v  v\n",
    " ...#......\n",
    " .......#..\n",
    " #.........\n",
    ">..........<\n",
    " ......#...\n",
    " .#........\n",
    " .........#\n",
    ">..........<\n",
    " .......#..\n",
    " #...#.....\n",
    "   ^  ^  ^\n",
    "```\n",
    "These rows and columns need to be twice as big; the result of cosmic expansion therefore looks like this:\n",
    "```\n",
    "....#........\n",
    ".........#...\n",
    "#............\n",
    ".............\n",
    ".............\n",
    "........#....\n",
    ".#...........\n",
    "............#\n",
    ".............\n",
    ".............\n",
    ".........#...\n",
    "#....#.......\n",
    "```\n",
    "Equipped with this expanded universe, the shortest path between every pair of galaxies can be found. It can help to assign every galaxy a unique number:\n",
    "```\n",
    "....1........\n",
    ".........2...\n",
    "3............\n",
    ".............\n",
    ".............\n",
    "........4....\n",
    ".5...........\n",
    "............6\n",
    ".............\n",
    ".............\n",
    ".........7...\n",
    "8....9.......\n",
    "```\n",
    "In these 9 galaxies, there are 36 pairs. Only count each pair once; order within the pair doesn't matter. For each pair, find any shortest path between the two galaxies using only steps that move up, down, left, or right exactly one . or # at a time. (The shortest path between two galaxies is allowed to pass through another galaxy.)\n",
    "\n",
    "For example, here is one of the shortest paths between galaxies 5 and 9:\n",
    "```\n",
    "....1........\n",
    ".........2...\n",
    "3............\n",
    ".............\n",
    ".............\n",
    "........4....\n",
    ".5...........\n",
    ".##.........6\n",
    "..##.........\n",
    "...##........\n",
    "....##...7...\n",
    "8....9.......\n",
    "```\n",
    "This path has length 9 because it takes a minimum of nine steps to get from galaxy 5 to galaxy 9 (the eight locations marked # plus the step onto galaxy 9 itself). Here are some other example shortest path lengths:\n",
    "\n",
    "- Between galaxy 1 and galaxy 7: 15\n",
    "- Between galaxy 3 and galaxy 6: 17\n",
    "- Between galaxy 8 and galaxy 9: 5\n",
    "\n",
    "In this example, after expanding the universe, the sum of the shortest path between all 36 pairs of galaxies is 374.\n",
    "\n",
    "Expand the universe, then find the length of the shortest path between every pair of galaxies. What is the sum of these lengths?"
   ]
  },
  {
   "cell_type": "code",
   "execution_count": 1,
   "metadata": {},
   "outputs": [],
   "source": [
    "def result(inputfile):\n",
    "\n",
    "    input = []\n",
    "    galaxies = []\n",
    "\n",
    "    with open(inputfile) as f:\n",
    "        for line in f:\n",
    "            input.append([*line.strip()])\n",
    "    for i, line in enumerate(input):\n",
    "        for j, char in enumerate(line):\n",
    "            if char == '#':\n",
    "                galaxies.append([i,j])\n",
    "\n",
    "    input_len = len(input)\n",
    "    input_width = len(line)\n",
    "    row_indices = [pos[0] for pos in galaxies]\n",
    "    column_indices = [pos[1] for pos in galaxies]\n",
    "    free_rows = [i for i in range(input_len) if i not in row_indices]\n",
    "    free_columns = [i for i in range(input_width) if i not in column_indices]\n",
    "\n",
    "    galaxiesExpanded = []\n",
    "    for pos in galaxies:\n",
    "        i = pos[0] + len([row for row in free_rows if row < pos[0]])\n",
    "        j = pos[1] + len([column for column in free_columns if column < pos[1]])\n",
    "        galaxiesExpanded.append([i,j])\n",
    "    result = 0\n",
    "    for i in range(len(galaxiesExpanded)):\n",
    "        for j in range(i):\n",
    "            result += abs(galaxiesExpanded[i][0] - galaxiesExpanded[j][0]) + abs(galaxiesExpanded[i][1] - galaxiesExpanded[j][1])\n",
    "    return result"
   ]
  },
  {
   "cell_type": "code",
   "execution_count": 2,
   "metadata": {},
   "outputs": [
    {
     "data": {
      "text/plain": [
       "374"
      ]
     },
     "execution_count": 2,
     "metadata": {},
     "output_type": "execute_result"
    }
   ],
   "source": [
    "result(\"example-input.txt\")"
   ]
  },
  {
   "cell_type": "code",
   "execution_count": 3,
   "metadata": {},
   "outputs": [
    {
     "data": {
      "text/plain": [
       "10033566"
      ]
     },
     "execution_count": 3,
     "metadata": {},
     "output_type": "execute_result"
    }
   ],
   "source": [
    "result(\"input.txt\")"
   ]
  },
  {
   "cell_type": "markdown",
   "metadata": {},
   "source": [
    "### Part Two\n",
    "The galaxies are much older (and thus much farther apart) than the researcher initially estimated.\n",
    "\n",
    "Now, instead of the expansion you did before, make each empty row or column one million times larger. That is, each empty row should be replaced with 1000000 empty rows, and each empty column should be replaced with 1000000 empty columns.\n",
    "\n",
    "(In the example above, if each empty row or column were merely 10 times larger, the sum of the shortest paths between every pair of galaxies would be 1030. If each empty row or column were merely 100 times larger, the sum of the shortest paths between every pair of galaxies would be 8410. However, your universe will need to expand far beyond these values.)\n",
    "\n",
    "Starting with the same initial image, expand the universe according to these new rules, then find the length of the shortest path between every pair of galaxies. What is the sum of these lengths?"
   ]
  },
  {
   "cell_type": "code",
   "execution_count": 12,
   "metadata": {},
   "outputs": [],
   "source": [
    "def result2(inputfile):\n",
    "\n",
    "    input = []\n",
    "    galaxies = []\n",
    "\n",
    "    with open(inputfile) as f:\n",
    "        for line in f:\n",
    "            input.append([*line.strip()])\n",
    "    for i, line in enumerate(input):\n",
    "        for j, char in enumerate(line):\n",
    "            if char == '#':\n",
    "                galaxies.append([i,j])\n",
    "\n",
    "    input_len = len(input)\n",
    "    input_width = len(line)\n",
    "    row_indices = [pos[0] for pos in galaxies]\n",
    "    column_indices = [pos[1] for pos in galaxies]\n",
    "    free_rows = [i for i in range(input_len) if i not in row_indices]\n",
    "    free_columns = [i for i in range(input_width) if i not in column_indices]\n",
    "\n",
    "    galaxiesExpanded = []\n",
    "    for pos in galaxies:\n",
    "        i = pos[0] + (1000000 - 1) * len([row for row in free_rows if row < pos[0]])\n",
    "        j = pos[1] + (1000000 - 1) * len([column for column in free_columns if column < pos[1]])\n",
    "        galaxiesExpanded.append([i,j])\n",
    "    result = 0\n",
    "    for i in range(len(galaxiesExpanded)):\n",
    "        for j in range(i):\n",
    "            result += abs(galaxiesExpanded[i][0] - galaxiesExpanded[j][0]) + abs(galaxiesExpanded[i][1] - galaxiesExpanded[j][1])\n",
    "    return result"
   ]
  },
  {
   "cell_type": "code",
   "execution_count": 14,
   "metadata": {},
   "outputs": [
    {
     "data": {
      "text/plain": [
       "560822911938"
      ]
     },
     "execution_count": 14,
     "metadata": {},
     "output_type": "execute_result"
    }
   ],
   "source": [
    "result2(\"input.txt\")"
   ]
  }
 ],
 "metadata": {
  "kernelspec": {
   "display_name": "Python 3.9.6 64-bit",
   "language": "python",
   "name": "python3"
  },
  "language_info": {
   "codemirror_mode": {
    "name": "ipython",
    "version": 3
   },
   "file_extension": ".py",
   "mimetype": "text/x-python",
   "name": "python",
   "nbconvert_exporter": "python",
   "pygments_lexer": "ipython3",
   "version": "3.9.6"
  },
  "orig_nbformat": 4,
  "vscode": {
   "interpreter": {
    "hash": "31f2aee4e71d21fbe5cf8b01ff0e069b9275f58929596ceb00d14d90e3e16cd6"
   }
  }
 },
 "nbformat": 4,
 "nbformat_minor": 2
}
