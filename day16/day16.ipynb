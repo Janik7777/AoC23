{
 "cells": [
  {
   "cell_type": "markdown",
   "metadata": {},
   "source": [
    "# Day 16: The Floor Will Be Lava\n",
    "With the beam of light completely focused somewhere, the reindeer leads you deeper still into the Lava Production Facility. At some point, you realize that the steel facility walls have been replaced with cave, and the doorways are just cave, and the floor is cave, and you're pretty sure this is actually just a giant cave.\n",
    "\n",
    "Finally, as you approach what must be the heart of the mountain, you see a bright light in a cavern up ahead. There, you discover that the beam of light you so carefully focused is emerging from the cavern wall closest to the facility and pouring all of its energy into a contraption on the opposite side.\n",
    "\n",
    "Upon closer inspection, the contraption appears to be a flat, two-dimensional square grid containing empty space (.), mirrors (/ and `\\`), and splitters (| and -).\n",
    "\n",
    "The contraption is aligned so that most of the beam bounces around the grid, but each tile on the grid converts some of the beam's light into heat to melt the rock in the cavern.\n",
    "\n",
    "You note the layout of the contraption (your puzzle input). For example:\n",
    "```\n",
    ".|...\\....\n",
    "|.-.\\.....\n",
    ".....|-...\n",
    "........|.\n",
    "..........\n",
    ".........\\\n",
    "..../.\\\\..\n",
    ".-.-/..|..\n",
    ".|....-|.\\\n",
    "..//.|....\n",
    "```\n",
    "The beam enters in the top-left corner from the left and heading to the right. Then, its behavior depends on what it encounters as it moves:\n",
    "\n",
    "If the beam encounters empty space (.), it continues in the same direction.\n",
    "If the beam encounters a mirror (/ or `\\`), the beam is reflected 90 degrees depending on the angle of the mirror. For instance, a rightward-moving beam that encounters a / mirror would continue upward in the mirror's column, while a rightward-moving beam that encounters a \\ mirror would continue downward from the mirror's column.\n",
    "If the beam encounters the pointy end of a splitter (| or -), the beam passes through the splitter as if the splitter were empty space. For instance, a rightward-moving beam that encounters a - splitter would continue in the same direction.\n",
    "If the beam encounters the flat side of a splitter (| or -), the beam is split into two beams going in each of the two directions the splitter's pointy ends are pointing. For instance, a rightward-moving beam that encounters a | splitter would split into two beams: one that continues upward from the splitter's column and one that continues downward from the splitter's column.\n",
    "Beams do not interact with other beams; a tile can have many beams passing through it at the same time. A tile is energized if that tile has at least one beam pass through it, reflect in it, or split in it.\n",
    "\n",
    "In the above example, here is how the beam of light bounces around the contraption:\n",
    "```\n",
    ">|<<<\\....\n",
    "|v-.\\^....\n",
    ".v...|->>>\n",
    ".v...v^.|.\n",
    ".v...v^...\n",
    ".v...v^..\\\n",
    ".v../2\\\\..\n",
    "<->-/vv|..\n",
    ".|<<<2-|.\\\n",
    ".v//.|.v..\n",
    "```\n",
    "Beams are only shown on empty tiles; arrows indicate the direction of the beams. If a tile contains beams moving in multiple directions, the number of distinct directions is shown instead. Here is the same diagram but instead only showing whether a tile is energized (#) or not (.):\n",
    "```\n",
    "######....\n",
    ".#...#....\n",
    ".#...#####\n",
    ".#...##...\n",
    ".#...##...\n",
    ".#...##...\n",
    ".#..####..\n",
    "########..\n",
    ".#######..\n",
    ".#...#.#..\n",
    "```\n",
    "Ultimately, in this example, 46 tiles become energized.\n",
    "\n",
    "The light isn't energizing enough tiles to produce lava; to debug the contraption, you need to start by analyzing the current situation. With the beam starting in the top-left heading right, how many tiles end up being energized?"
   ]
  },
  {
   "cell_type": "code",
   "execution_count": 16,
   "metadata": {},
   "outputs": [],
   "source": [
    "from collections import defaultdict\n",
    "\n",
    "revertDirection = {\n",
    "        'L': 'R',\n",
    "        'R': 'L',\n",
    "        'U': 'D',\n",
    "        'D': 'U'\n",
    "    }\n",
    "indexShift = {\n",
    "        'L': [0,-1],\n",
    "        'R': [0,1],\n",
    "        'U': [-1,0],\n",
    "        'D': [1,0],\n",
    "    }\n",
    "nextDirection = {\n",
    "    '.': {\n",
    "        'L': ['R'],\n",
    "        'R': ['L'],\n",
    "        'U': ['D'],\n",
    "        'D': ['U']\n",
    "    },\n",
    "    '|': {\n",
    "        'L': ['U','D'],\n",
    "        'R': ['U','D'],\n",
    "        'U': ['D'],\n",
    "        'D': ['U']\n",
    "    },\n",
    "    '-': {\n",
    "        'L': ['R'],\n",
    "        'R': ['L'],\n",
    "        'U': ['R','L'],\n",
    "        'D': ['R','L'],\n",
    "    },\n",
    "    '/': {\n",
    "        'L': ['U'],\n",
    "        'R': ['D'],\n",
    "        'U': ['L'],\n",
    "        'D': ['R']\n",
    "    },\n",
    "    '\\\\': {\n",
    "        'L': ['D'],\n",
    "        'R': ['U'],\n",
    "        'U': ['R'],\n",
    "        'D': ['L']\n",
    "    },\n",
    "}\n",
    "\n",
    "def result(inputfile):\n",
    "\n",
    "    input = []\n",
    "    foundDirs = defaultdict(lambda: defaultdict(lambda: []))\n",
    "    enegized = defaultdict(lambda: defaultdict(lambda: 0))\n",
    "\n",
    "    with open(inputfile) as f:\n",
    "        for line in f:\n",
    "            input.append([*line.strip()])\n",
    "    def travelThroughPoint(x,y,comingFrom):\n",
    "        if 0<= x < len(input) and 0<= y < len(input[0]):\n",
    "            enegized[x][y] = 1\n",
    "            nextDirs = nextDirection[input[x][y]][comingFrom]\n",
    "            foundDirs[x][y].append(comingFrom)\n",
    "            for dir in nextDirs:\n",
    "                if dir not in foundDirs[x][y]:\n",
    "                    foundDirs[x][y].append(dir)\n",
    "                    nextComingFrom = revertDirection[dir]\n",
    "                    shift = indexShift[dir]\n",
    "                    nextX = x + shift[0]\n",
    "                    nextY = y + shift[1]\n",
    "                    travelThroughPoint(nextX, nextY, nextComingFrom)\n",
    "    travelThroughPoint(0,0,'L')\n",
    "    return sum([sum(line.values()) for line in enegized.values()])\n"
   ]
  },
  {
   "cell_type": "code",
   "execution_count": 17,
   "metadata": {},
   "outputs": [
    {
     "data": {
      "text/plain": [
       "46"
      ]
     },
     "execution_count": 17,
     "metadata": {},
     "output_type": "execute_result"
    }
   ],
   "source": [
    "result(\"example-input.txt\")"
   ]
  },
  {
   "cell_type": "code",
   "execution_count": 18,
   "metadata": {},
   "outputs": [
    {
     "data": {
      "text/plain": [
       "7434"
      ]
     },
     "execution_count": 18,
     "metadata": {},
     "output_type": "execute_result"
    }
   ],
   "source": [
    "result(\"input.txt\")"
   ]
  },
  {
   "cell_type": "markdown",
   "metadata": {},
   "source": [
    "### Part Two\n",
    "As you try to work out what might be wrong, the reindeer tugs on your shirt and leads you to a nearby control panel. There, a collection of buttons lets you align the contraption so that the beam enters from any edge tile and heading away from that edge. (You can choose either of two directions for the beam if it starts on a corner; for instance, if the beam starts in the bottom-right corner, it can start heading either left or upward.)\n",
    "\n",
    "So, the beam could start on any tile in the top row (heading downward), any tile in the bottom row (heading upward), any tile in the leftmost column (heading right), or any tile in the rightmost column (heading left). To produce lava, you need to find the configuration that energizes as many tiles as possible.\n",
    "\n",
    "In the above example, this can be achieved by starting the beam in the fourth tile from the left in the top row:\n",
    "```\n",
    ".|<2<\\....\n",
    "|v-v\\^....\n",
    ".v.v.|->>>\n",
    ".v.v.v^.|.\n",
    ".v.v.v^...\n",
    ".v.v.v^..\\\n",
    ".v.v/2\\\\..\n",
    "<-2-/vv|..\n",
    ".|<<<2-|.\\\n",
    ".v//.|.v..\n",
    "```\n",
    "Using this configuration, 51 tiles are energized:\n",
    "```\n",
    ".#####....\n",
    ".#.#.#....\n",
    ".#.#.#####\n",
    ".#.#.##...\n",
    ".#.#.##...\n",
    ".#.#.##...\n",
    ".#.#####..\n",
    "########..\n",
    ".#######..\n",
    ".#...#.#..\n",
    "```\n",
    "Find the initial beam configuration that energizes the largest number of tiles; how many tiles are energized in that configuration?"
   ]
  },
  {
   "cell_type": "code",
   "execution_count": 19,
   "metadata": {},
   "outputs": [],
   "source": [
    "def scoreOfEntry(input,startLine,startColumn,startDirection):\n",
    "    foundDirs = defaultdict(lambda: defaultdict(lambda: []))\n",
    "    enegized = defaultdict(lambda: defaultdict(lambda: 0))\n",
    "\n",
    "    def travelThroughPoint(x,y,comingFrom):\n",
    "        if 0<= x < len(input) and 0<= y < len(input[0]):\n",
    "            enegized[x][y] = 1\n",
    "            nextDirs = nextDirection[input[x][y]][comingFrom]\n",
    "            foundDirs[x][y].append(comingFrom)\n",
    "            for dir in nextDirs:\n",
    "                if dir not in foundDirs[x][y]:\n",
    "                    foundDirs[x][y].append(dir)\n",
    "                    nextComingFrom = revertDirection[dir]\n",
    "                    shift = indexShift[dir]\n",
    "                    nextX = x + shift[0]\n",
    "                    nextY = y + shift[1]\n",
    "                    travelThroughPoint(nextX, nextY, nextComingFrom)\n",
    "    travelThroughPoint(startLine,startColumn,startDirection)\n",
    "    return sum([sum(line.values()) for line in enegized.values()])\n",
    "\n",
    "def result2(inputfile):\n",
    "\n",
    "    input = []\n",
    "    scores = []\n",
    "\n",
    "    with open(inputfile) as f:\n",
    "        for line in f:\n",
    "            input.append([*line.strip()])\n",
    "    length = len(input)\n",
    "    width = len(input[0])\n",
    "    for i in range(length):\n",
    "        scores.append(scoreOfEntry(input,i,0,'L'))\n",
    "        scores.append(scoreOfEntry(input,i,width-1,'R'))\n",
    "    for i in range(width):\n",
    "        scores.append(scoreOfEntry(input,0,i,'U'))\n",
    "        scores.append(scoreOfEntry(input,length-1,i,'D'))\n",
    "    return max(scores)"
   ]
  },
  {
   "cell_type": "code",
   "execution_count": 21,
   "metadata": {},
   "outputs": [
    {
     "data": {
      "text/plain": [
       "51"
      ]
     },
     "execution_count": 21,
     "metadata": {},
     "output_type": "execute_result"
    }
   ],
   "source": [
    "result2(\"example-input.txt\")"
   ]
  },
  {
   "cell_type": "code",
   "execution_count": 22,
   "metadata": {},
   "outputs": [
    {
     "data": {
      "text/plain": [
       "8183"
      ]
     },
     "execution_count": 22,
     "metadata": {},
     "output_type": "execute_result"
    }
   ],
   "source": [
    "result2(\"input.txt\")"
   ]
  }
 ],
 "metadata": {
  "kernelspec": {
   "display_name": "Python 3.9.6 64-bit",
   "language": "python",
   "name": "python3"
  },
  "language_info": {
   "codemirror_mode": {
    "name": "ipython",
    "version": 3
   },
   "file_extension": ".py",
   "mimetype": "text/x-python",
   "name": "python",
   "nbconvert_exporter": "python",
   "pygments_lexer": "ipython3",
   "version": "3.9.6"
  },
  "orig_nbformat": 4,
  "vscode": {
   "interpreter": {
    "hash": "31f2aee4e71d21fbe5cf8b01ff0e069b9275f58929596ceb00d14d90e3e16cd6"
   }
  }
 },
 "nbformat": 4,
 "nbformat_minor": 2
}
