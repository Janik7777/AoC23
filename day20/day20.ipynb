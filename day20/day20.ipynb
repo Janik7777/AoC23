{
 "cells": [
  {
   "cell_type": "markdown",
   "metadata": {},
   "source": [
    "# Day 20: Pulse Propagation\n",
    "With your help, the Elves manage to find the right parts and fix all of the machines. Now, they just need to send the command to boot up the machines and get the sand flowing again.\n",
    "\n",
    "The machines are far apart and wired together with long cables. The cables don't connect to the machines directly, but rather to communication modules attached to the machines that perform various initialization tasks and also act as communication relays.\n",
    "\n",
    "Modules communicate using pulses. Each pulse is either a high pulse or a low pulse. When a module sends a pulse, it sends that type of pulse to each module in its list of destination modules.\n",
    "\n",
    "There are several different types of modules:\n",
    "\n",
    "Flip-flop modules (prefix %) are either on or off; they are initially off. If a flip-flop module receives a high pulse, it is ignored and nothing happens. However, if a flip-flop module receives a low pulse, it flips between on and off. If it was off, it turns on and sends a high pulse. If it was on, it turns off and sends a low pulse.\n",
    "\n",
    "Conjunction modules (prefix &) remember the type of the most recent pulse received from each of their connected input modules; they initially default to remembering a low pulse for each input. When a pulse is received, the conjunction module first updates its memory for that input. Then, if it remembers high pulses for all inputs, it sends a low pulse; otherwise, it sends a high pulse.\n",
    "\n",
    "There is a single broadcast module (named broadcaster). When it receives a pulse, it sends the same pulse to all of its destination modules.\n",
    "\n",
    "Here at Desert Machine Headquarters, there is a module with a single button on it called, aptly, the button module. When you push the button, a single low pulse is sent directly to the broadcaster module.\n",
    "\n",
    "After pushing the button, you must wait until all pulses have been delivered and fully handled before pushing it again. Never push the button if modules are still processing pulses.\n",
    "\n",
    "Pulses are always processed in the order they are sent. So, if a pulse is sent to modules a, b, and c, and then module a processes its pulse and sends more pulses, the pulses sent to modules b and c would have to be handled first.\n",
    "\n",
    "The module configuration (your puzzle input) lists each module. The name of the module is preceded by a symbol identifying its type, if any. The name is then followed by an arrow and a list of its destination modules. For example:\n",
    "```\n",
    "broadcaster -> a, b, c\n",
    "%a -> b\n",
    "%b -> c\n",
    "%c -> inv\n",
    "&inv -> a\n",
    "```\n",
    "In this module configuration, the broadcaster has three destination modules named a, b, and c. Each of these modules is a flip-flop module (as indicated by the % prefix). a outputs to b which outputs to c which outputs to another module named inv. inv is a conjunction module (as indicated by the & prefix) which, because it has only one input, acts like an inverter (it sends the opposite of the pulse type it receives); it outputs to a.\n",
    "\n",
    "By pushing the button once, the following pulses are sent:\n",
    "```\n",
    "button -low-> broadcaster\n",
    "broadcaster -low-> a\n",
    "broadcaster -low-> b\n",
    "broadcaster -low-> c\n",
    "a -high-> b\n",
    "b -high-> c\n",
    "c -high-> inv\n",
    "inv -low-> a\n",
    "a -low-> b\n",
    "b -low-> c\n",
    "c -low-> inv\n",
    "inv -high-> a\n",
    "```\n",
    "After this sequence, the flip-flop modules all end up off, so pushing the button again repeats the same sequence.\n",
    "\n",
    "Here's a more interesting example:\n",
    "```\n",
    "broadcaster -> a\n",
    "%a -> inv, con\n",
    "&inv -> b\n",
    "%b -> con\n",
    "&con -> output\n",
    "```\n",
    "This module configuration includes the broadcaster, two flip-flops (named a and b), a single-input conjunction module (inv), a multi-input conjunction module (con), and an untyped module named output (for testing purposes). The multi-input conjunction module con watches the two flip-flop modules and, if they're both on, sends a low pulse to the output module.\n",
    "\n",
    "Here's what happens if you push the button once:\n",
    "```\n",
    "button -low-> broadcaster\n",
    "broadcaster -low-> a\n",
    "a -high-> inv\n",
    "a -high-> con\n",
    "inv -low-> b\n",
    "con -high-> output\n",
    "b -high-> con\n",
    "con -low-> output\n",
    "```\n",
    "Both flip-flops turn on and a low pulse is sent to output! However, now that both flip-flops are on and con remembers a high pulse from each of its two inputs, pushing the button a second time does something different:\n",
    "```\n",
    "button -low-> broadcaster\n",
    "broadcaster -low-> a\n",
    "a -low-> inv\n",
    "a -low-> con\n",
    "inv -high-> b\n",
    "con -high-> output\n",
    "```\n",
    "Flip-flop a turns off! Now, con remembers a low pulse from module a, and so it sends only a high pulse to output.\n",
    "\n",
    "Push the button a third time:\n",
    "```\n",
    "button -low-> broadcaster\n",
    "broadcaster -low-> a\n",
    "a -high-> inv\n",
    "a -high-> con\n",
    "inv -low-> b\n",
    "con -low-> output\n",
    "b -low-> con\n",
    "con -high-> output\n",
    "```\n",
    "This time, flip-flop a turns on, then flip-flop b turns off. However, before b can turn off, the pulse sent to con is handled first, so it briefly remembers all high pulses for its inputs and sends a low pulse to output. After that, flip-flop b turns off, which causes con to update its state and send a high pulse to output.\n",
    "\n",
    "Finally, with a on and b off, push the button a fourth time:\n",
    "```\n",
    "button -low-> broadcaster\n",
    "broadcaster -low-> a\n",
    "a -low-> inv\n",
    "a -low-> con\n",
    "inv -high-> b\n",
    "con -high-> output\n",
    "```\n",
    "This completes the cycle: a turns off, causing con to remember only low pulses and restoring all modules to their original states.\n",
    "\n",
    "To get the cables warmed up, the Elves have pushed the button 1000 times. How many pulses got sent as a result (including the pulses sent by the button itself)?\n",
    "\n",
    "In the first example, the same thing happens every time the button is pushed: 8 low pulses and 4 high pulses are sent. So, after pushing the button 1000 times, 8000 low pulses and 4000 high pulses are sent. Multiplying these together gives 32000000.\n",
    "\n",
    "In the second example, after pushing the button 1000 times, 4250 low pulses and 2750 high pulses are sent. Multiplying these together gives 11687500.\n",
    "\n",
    "Consult your module configuration; determine the number of low pulses and high pulses that would be sent after pushing the button 1000 times, waiting for all pulses to be fully handled after each push of the button. What do you get if you multiply the total number of low pulses sent by the total number of high pulses sent?"
   ]
  },
  {
   "cell_type": "code",
   "execution_count": 20,
   "metadata": {},
   "outputs": [],
   "source": [
    "from collections import defaultdict\n",
    "def revertStrength(strength):\n",
    "    return 'low' if strength == 'high' else 'high'\n",
    "\n",
    "def result(inputfile):\n",
    "    types = {}\n",
    "    destinations = {}\n",
    "    currentStates = defaultdict(lambda: {})\n",
    "    with open(inputfile) as f:\n",
    "        for line in f:\n",
    "            typeAndName, destList = line.strip().split(' -> ')\n",
    "            if typeAndName[0] == '%':\n",
    "                types[typeAndName[1:]] = typeAndName[0]\n",
    "                currentStates[typeAndName[1:]] = 'low'\n",
    "                destinations[typeAndName[1:]] = destList.split(', ')\n",
    "            elif typeAndName[0] == '&':\n",
    "                types[typeAndName[1:]] = typeAndName[0]\n",
    "                destinations[typeAndName[1:]] = destList.split(', ')\n",
    "            else:\n",
    "                destinations[typeAndName] = destList.split(', ')\n",
    "    for key in types.keys():\n",
    "        for dest in destinations[key]:\n",
    "            if dest in types.keys() and types[dest] == '&':\n",
    "                currentStates[dest][key] = 'low'\n",
    "\n",
    "    lows = 0\n",
    "    highs = 0\n",
    "\n",
    "    for _ in range(1000):\n",
    "        pulseQueue = [['broadcaster', 'low','']]\n",
    "        while len(pulseQueue) != 0:\n",
    "            name, strength, sender = pulseQueue.pop(0)\n",
    "            if strength == 'low':\n",
    "                lows += 1\n",
    "            else:\n",
    "                highs += 1\n",
    "            if name == 'broadcaster':\n",
    "                for dest in destinations[name]:\n",
    "                    pulseQueue.append([dest, strength, name])\n",
    "            elif name not in types.keys():\n",
    "                continue\n",
    "            elif types[name] == '%' and strength == 'low':\n",
    "                reverse  = revertStrength(currentStates[name])\n",
    "                currentStates[name] = reverse\n",
    "                for dest in destinations[name]:\n",
    "                    pulseQueue.append([dest, reverse, name])\n",
    "            elif types[name] == '&':\n",
    "                currentStates[name][sender] = strength\n",
    "                if all([x == 'high' for x in currentStates[name].values()]):\n",
    "                    for dest in destinations[name]:\n",
    "                        pulseQueue.append([dest, 'low', name])\n",
    "                else:\n",
    "                    for dest in destinations[name]:\n",
    "                        pulseQueue.append([dest, 'high', name])\n",
    "\n",
    "    return lows, highs, lows*highs \n"
   ]
  },
  {
   "cell_type": "code",
   "execution_count": 21,
   "metadata": {},
   "outputs": [
    {
     "data": {
      "text/plain": [
       "(8000, 4000, 32000000)"
      ]
     },
     "execution_count": 21,
     "metadata": {},
     "output_type": "execute_result"
    }
   ],
   "source": [
    "result(\"example-input.txt\")"
   ]
  },
  {
   "cell_type": "code",
   "execution_count": 22,
   "metadata": {},
   "outputs": [
    {
     "data": {
      "text/plain": [
       "(4250, 2750, 11687500)"
      ]
     },
     "execution_count": 22,
     "metadata": {},
     "output_type": "execute_result"
    }
   ],
   "source": [
    "result(\"example-input-2.txt\")"
   ]
  },
  {
   "cell_type": "code",
   "execution_count": 23,
   "metadata": {},
   "outputs": [
    {
     "data": {
      "text/plain": [
       "(18771, 46872, 879834312)"
      ]
     },
     "execution_count": 23,
     "metadata": {},
     "output_type": "execute_result"
    }
   ],
   "source": [
    "result(\"input.txt\")"
   ]
  },
  {
   "cell_type": "markdown",
   "metadata": {},
   "source": [
    "### Part Two\n",
    "The final machine responsible for moving the sand down to Island Island has a module attached named rx. The machine turns on when a single low pulse is sent to rx.\n",
    "\n",
    "Reset all modules to their default states. Waiting for all pulses to be fully handled after each button press, what is the fewest number of button presses required to deliver a single low pulse to the module named rx?"
   ]
  },
  {
   "cell_type": "code",
   "execution_count": 19,
   "metadata": {},
   "outputs": [],
   "source": [
    "from pyvis.network import Network\n",
    "import networkx as nx\n",
    "\n",
    "def generateGraphHtml(inputfile):\n",
    "    destinations = {}\n",
    "    with open(inputfile) as f:\n",
    "        for line in f:\n",
    "            typeAndName, destList = line.strip().split(' -> ')\n",
    "            if typeAndName[0] == '%':\n",
    "                destinations[typeAndName[1:]] = destList.split(', ')\n",
    "            elif typeAndName[0] == '&':\n",
    "                destinations[typeAndName[1:]] = destList.split(', ')\n",
    "            else:\n",
    "                destinations[typeAndName] = destList.split(', ')\n",
    "    \n",
    "    net = Network(directed=True)\n",
    "\n",
    "    G = nx.from_dict_of_lists(destinations, create_using=nx.DiGraph)\n",
    "    net.from_nx(G)\n",
    "    net.write_html(\"graph.html\")"
   ]
  },
  {
   "cell_type": "code",
   "execution_count": 13,
   "metadata": {},
   "outputs": [],
   "source": [
    "generateGraphHtml(\"input.txt\")"
   ]
  },
  {
   "cell_type": "code",
   "execution_count": 49,
   "metadata": {},
   "outputs": [],
   "source": [
    "def result2(inputfile, target):\n",
    "    types = {}\n",
    "    destinations = {}\n",
    "    currentStates = defaultdict(lambda: {})\n",
    "    inputs = defaultdict(lambda: [])\n",
    "    with open(inputfile) as f:\n",
    "        for line in f:\n",
    "            typeAndName, destList = line.strip().split(' -> ')\n",
    "            if typeAndName[0] == '%':\n",
    "                types[typeAndName[1:]] = typeAndName[0]\n",
    "                currentStates[typeAndName[1:]] = 'low'\n",
    "                destinations[typeAndName[1:]] = destList.split(', ')\n",
    "            elif typeAndName[0] == '&':\n",
    "                types[typeAndName[1:]] = typeAndName[0]\n",
    "                destinations[typeAndName[1:]] = destList.split(', ')\n",
    "            else:\n",
    "                destinations[typeAndName] = destList.split(', ')\n",
    "    for key in destinations.keys():\n",
    "        bla = inputs[key]\n",
    "        for dest in destinations[key]:\n",
    "            inputs[dest].append(key)\n",
    "            if dest in types.keys() and types[dest] == '&':\n",
    "                currentStates[dest][key] = 'low'\n",
    "    \n",
    "    \n",
    "    ts = []\n",
    "    t = 1\n",
    "    while len(ts) < 10:\n",
    "        pulseQueue = [['broadcaster', 'low','']]\n",
    "        while len(pulseQueue) != 0:\n",
    "            name, strength, sender = pulseQueue.pop(0)\n",
    "            if name == target and strength == 'low':\n",
    "                ts.append(t)\n",
    "            if name == 'broadcaster':\n",
    "                for dest in destinations[name]:\n",
    "                    pulseQueue.append([dest, strength, name])\n",
    "            elif name not in types.keys():\n",
    "                continue\n",
    "            elif types[name] == '%' and strength == 'low':\n",
    "                reverse  = revertStrength(currentStates[name])\n",
    "                currentStates[name] = reverse\n",
    "                for dest in destinations[name]:\n",
    "                    pulseQueue.append([dest, reverse, name])\n",
    "            elif types[name] == '&':\n",
    "                currentStates[name][sender] = strength\n",
    "                if all([x == 'high' for x in currentStates[name].values()]):\n",
    "                    for dest in destinations[name]:\n",
    "                        pulseQueue.append([dest, 'low', name])\n",
    "                else:\n",
    "                    for dest in destinations[name]:\n",
    "                        pulseQueue.append([dest, 'high', name])\n",
    "        t += 1\n",
    "    for i in range(9):\n",
    "        print(ts[i+1] - ts[i])\n",
    "    return ts"
   ]
  },
  {
   "cell_type": "code",
   "execution_count": 50,
   "metadata": {},
   "outputs": [
    {
     "name": "stdout",
     "output_type": "stream",
     "text": [
      "3907\n",
      "3907\n",
      "3907\n",
      "3907\n",
      "3907\n",
      "3907\n",
      "3907\n",
      "3907\n",
      "3907\n"
     ]
    },
    {
     "data": {
      "text/plain": [
       "[3907, 7814, 11721, 15628, 19535, 23442, 27349, 31256, 35163, 39070]"
      ]
     },
     "execution_count": 50,
     "metadata": {},
     "output_type": "execute_result"
    }
   ],
   "source": [
    "result2('input.txt', 'mr')"
   ]
  },
  {
   "cell_type": "code",
   "execution_count": 51,
   "metadata": {},
   "outputs": [
    {
     "name": "stdout",
     "output_type": "stream",
     "text": [
      "3931\n",
      "3931\n",
      "3931\n",
      "3931\n",
      "3931\n",
      "3931\n",
      "3931\n",
      "3931\n",
      "3931\n"
     ]
    },
    {
     "data": {
      "text/plain": [
       "[3931, 7862, 11793, 15724, 19655, 23586, 27517, 31448, 35379, 39310]"
      ]
     },
     "execution_count": 51,
     "metadata": {},
     "output_type": "execute_result"
    }
   ],
   "source": [
    "result2('input.txt', 'kk')"
   ]
  },
  {
   "cell_type": "code",
   "execution_count": 52,
   "metadata": {},
   "outputs": [
    {
     "name": "stdout",
     "output_type": "stream",
     "text": [
      "3967\n",
      "3967\n",
      "3967\n",
      "3967\n",
      "3967\n",
      "3967\n",
      "3967\n",
      "3967\n",
      "3967\n"
     ]
    },
    {
     "data": {
      "text/plain": [
       "[3967, 7934, 11901, 15868, 19835, 23802, 27769, 31736, 35703, 39670]"
      ]
     },
     "execution_count": 52,
     "metadata": {},
     "output_type": "execute_result"
    }
   ],
   "source": [
    "result2('input.txt', 'bb')"
   ]
  },
  {
   "cell_type": "code",
   "execution_count": 53,
   "metadata": {},
   "outputs": [
    {
     "name": "stdout",
     "output_type": "stream",
     "text": [
      "3989\n",
      "3989\n",
      "3989\n",
      "3989\n",
      "3989\n",
      "3989\n",
      "3989\n",
      "3989\n",
      "3989\n"
     ]
    },
    {
     "data": {
      "text/plain": [
       "[3989, 7978, 11967, 15956, 19945, 23934, 27923, 31912, 35901, 39890]"
      ]
     },
     "execution_count": 53,
     "metadata": {},
     "output_type": "execute_result"
    }
   ],
   "source": [
    "result2('input.txt', 'gl')"
   ]
  },
  {
   "cell_type": "code",
   "execution_count": 54,
   "metadata": {},
   "outputs": [
    {
     "data": {
      "text/plain": [
       "243037165713371"
      ]
     },
     "execution_count": 54,
     "metadata": {},
     "output_type": "execute_result"
    }
   ],
   "source": [
    "from math import lcm\n",
    "\n",
    "lcm(3989, 3967, 3931, 3907)"
   ]
  }
 ],
 "metadata": {
  "kernelspec": {
   "display_name": "Python 3.10.6 ('immd')",
   "language": "python",
   "name": "python3"
  },
  "language_info": {
   "codemirror_mode": {
    "name": "ipython",
    "version": 3
   },
   "file_extension": ".py",
   "mimetype": "text/x-python",
   "name": "python",
   "nbconvert_exporter": "python",
   "pygments_lexer": "ipython3",
   "version": "3.10.6"
  },
  "orig_nbformat": 4,
  "vscode": {
   "interpreter": {
    "hash": "3788634bf4494cb8c78f338b49d3415b443921db7d01b0c627acb9285c954547"
   }
  }
 },
 "nbformat": 4,
 "nbformat_minor": 2
}
