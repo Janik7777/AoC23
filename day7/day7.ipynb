{
 "cells": [
  {
   "cell_type": "markdown",
   "metadata": {},
   "source": [
    "# Day 7: Camel Cards\n",
    "Your all-expenses-paid trip turns out to be a one-way, five-minute ride in an airship. (At least it's a cool airship!) It drops you off at the edge of a vast desert and descends back to Island Island.\n",
    "\n",
    "\"Did you bring the parts?\"\n",
    "\n",
    "You turn around to see an Elf completely covered in white clothing, wearing goggles, and riding a large camel.\n",
    "\n",
    "\"Did you bring the parts?\" she asks again, louder this time. You aren't sure what parts she's looking for; you're here to figure out why the sand stopped.\n",
    "\n",
    "\"The parts! For the sand, yes! Come with me; I will show you.\" She beckons you onto the camel.\n",
    "\n",
    "After riding a bit across the sands of Desert Island, you can see what look like very large rocks covering half of the horizon. The Elf explains that the rocks are all along the part of Desert Island that is directly above Island Island, making it hard to even get there. Normally, they use big machines to move the rocks and filter the sand, but the machines have broken down because Desert Island recently stopped receiving the parts they need to fix the machines.\n",
    "\n",
    "You've already assumed it'll be your job to figure out why the parts stopped when she asks if you can help. You agree automatically.\n",
    "\n",
    "Because the journey will take a few days, she offers to teach you the game of Camel Cards. Camel Cards is sort of similar to poker except it's designed to be easier to play while riding a camel.\n",
    "\n",
    "In Camel Cards, you get a list of hands, and your goal is to order them based on the strength of each hand. A hand consists of five cards labeled one of A, K, Q, J, T, 9, 8, 7, 6, 5, 4, 3, or 2. The relative strength of each card follows this order, where A is the highest and 2 is the lowest.\n",
    "\n",
    "Every hand is exactly one type. From strongest to weakest, they are:\n",
    "\n",
    "- Five of a kind, where all five cards have the same label: AAAAA\n",
    "- Four of a kind, where four cards have the same label and one card has a different label: AA8AA\n",
    "- Full house, where three cards have the same label, and the remaining two cards share a different label: 23332\n",
    "- Three of a kind, where three cards have the same label, and the remaining two cards are each different from any other card in the hand: TTT98\n",
    "- Two pair, where two cards share one label, two other cards share a second label, and the remaining card has a third label: 23432\n",
    "- One pair, where two cards share one label, and the other three cards have a different label from the pair and each other: A23A4\n",
    "- High card, where all cards' labels are distinct: 23456\n",
    "\n",
    "Hands are primarily ordered based on type; for example, every full house is stronger than any three of a kind.\n",
    "\n",
    "If two hands have the same type, a second ordering rule takes effect. Start by comparing the first card in each hand. If these cards are different, the hand with the stronger first card is considered stronger. If the first card in each hand have the same label, however, then move on to considering the second card in each hand. If they differ, the hand with the higher second card wins; otherwise, continue with the third card in each hand, then the fourth, then the fifth.\n",
    "\n",
    "So, 33332 and 2AAAA are both four of a kind hands, but 33332 is stronger because its first card is stronger. Similarly, 77888 and 77788 are both a full house, but 77888 is stronger because its third card is stronger (and both hands have the same first and second card).\n",
    "\n",
    "To play Camel Cards, you are given a list of hands and their corresponding bid (your puzzle input). For example:\n",
    "\n",
    "- 32T3K 765\n",
    "- T55J5 684\n",
    "- KK677 28\n",
    "- KTJJT 220\n",
    "- QQQJA 483\n",
    "\n",
    "This example shows five hands; each hand is followed by its bid amount. Each hand wins an amount equal to its bid multiplied by its rank, where the weakest hand gets rank 1, the second-weakest hand gets rank 2, and so on up to the strongest hand. Because there are five hands in this example, the strongest hand will have rank 5 and its bid will be multiplied by 5.\n",
    "\n",
    "So, the first step is to put the hands in order of strength:\n",
    "\n",
    "32T3K is the only one pair and the other hands are all a stronger type, so it gets rank 1.\n",
    "KK677 and KTJJT are both two pair. Their first cards both have the same label, but the second card of KK677 is stronger (K vs T), so KTJJT gets rank 2 and KK677 gets rank 3.\n",
    "T55J5 and QQQJA are both three of a kind. QQQJA has a stronger first card, so it gets rank 5 and T55J5 gets rank 4.\n",
    "Now, you can determine the total winnings of this set of hands by adding up the result of multiplying each hand's bid with its rank (765 * 1 + 220 * 2 + 28 * 3 + 684 * 4 + 483 * 5). So the total winnings in this example are 6440.\n",
    "\n",
    "Find the rank of every hand in your set. What are the total winnings?\n",
    "\n"
   ]
  },
  {
   "cell_type": "markdown",
   "metadata": {},
   "source": [
    "Idea: Compute a value for the hand such that the value of a better hand is higher."
   ]
  },
  {
   "cell_type": "code",
   "execution_count": 42,
   "metadata": {},
   "outputs": [],
   "source": [
    "from collections import Counter\n",
    "from functools import reduce\n",
    "\n",
    "def valueForHand_part1(hand_bid_pair):\n",
    "    cardDict = {\n",
    "        '2': 0,\n",
    "        '3': 1,\n",
    "        '4': 2,\n",
    "        '5': 3,\n",
    "        '6': 4,\n",
    "        '7': 5,\n",
    "        '8': 6,\n",
    "        '9': 7,\n",
    "        'T': 8,\n",
    "        'J': 9,\n",
    "        'Q': 10,\n",
    "        'K': 11,\n",
    "        'A': 12\n",
    "    }\n",
    "\n",
    "    def get_primary_score(cards):\n",
    "        card_counter = Counter(cards)\n",
    "        counts = list(card_counter.values())\n",
    "        countmax = max(counts)\n",
    "        match countmax:\n",
    "            case 5:\n",
    "                return 6\n",
    "            case 4:\n",
    "                return 5\n",
    "            case 3:\n",
    "                if len(counts) == 2:\n",
    "                    return 4\n",
    "                else:\n",
    "                    return 3\n",
    "            case 2:\n",
    "                if len(counts) == 3:\n",
    "                    return 2\n",
    "                else:\n",
    "                    return 1\n",
    "            case 1:\n",
    "                return 0\n",
    "\n",
    "    cards = [*hand_bid_pair[0]]\n",
    "    scores = []\n",
    "    scores.append(get_primary_score(cards))\n",
    "    for card in cards:\n",
    "        scores.append(cardDict[card])\n",
    "    score_value = 0\n",
    "    multiplier = 1\n",
    "    for i in range(6):\n",
    "        score_value = score_value + scores[5-i] * multiplier\n",
    "        multiplier = 13*multiplier\n",
    "    return score_value\n",
    "\n",
    "\n",
    "def multiply_with_index(acc, element):\n",
    "    index, hand_bid_pair = element\n",
    "    return acc + int(hand_bid_pair[1]) * (index + 1)\n",
    "\n",
    "def result(inputfile, valuefunction):\n",
    "\n",
    "    input = []\n",
    "\n",
    "    with open(inputfile) as f:\n",
    "        for line in f:\n",
    "            hand_bid_pair = line.strip().split()\n",
    "            input.append(hand_bid_pair)\n",
    "\n",
    "    sorted_input = sorted(input, key=valuefunction)\n",
    "    return reduce(multiply_with_index, enumerate(sorted_input), 0)"
   ]
  },
  {
   "cell_type": "code",
   "execution_count": 39,
   "metadata": {},
   "outputs": [
    {
     "data": {
      "text/plain": [
       "6440"
      ]
     },
     "execution_count": 39,
     "metadata": {},
     "output_type": "execute_result"
    }
   ],
   "source": [
    "result(\"example-input.txt\", valueForHand_part1)"
   ]
  },
  {
   "cell_type": "code",
   "execution_count": 40,
   "metadata": {},
   "outputs": [
    {
     "data": {
      "text/plain": [
       "246912307"
      ]
     },
     "execution_count": 40,
     "metadata": {},
     "output_type": "execute_result"
    }
   ],
   "source": [
    "result(\"input.txt\", valueForHand_part1)"
   ]
  },
  {
   "cell_type": "markdown",
   "metadata": {},
   "source": [
    "### Part Two\n",
    "To make things a little more interesting, the Elf introduces one additional rule. Now, J cards are jokers - wildcards that can act like whatever card would make the hand the strongest type possible.\n",
    "\n",
    "To balance this, J cards are now the weakest individual cards, weaker even than 2. The other cards stay in the same order: A, K, Q, T, 9, 8, 7, 6, 5, 4, 3, 2, J.\n",
    "\n",
    "J cards can pretend to be whatever card is best for the purpose of determining hand type; for example, QJJQ2 is now considered four of a kind. However, for the purpose of breaking ties between two hands of the same type, J is always treated as J, not the card it's pretending to be: JKKK2 is weaker than QQQQ2 because J is weaker than Q.\n",
    "\n",
    "Now, the above example goes very differently:\n",
    "\n",
    "- 32T3K 765\n",
    "- T55J5 684\n",
    "- KK677 28\n",
    "- KTJJT 220\n",
    "- QQQJA 483\n",
    "\n",
    "32T3K is still the only one pair; it doesn't contain any jokers, so its strength doesn't increase.\n",
    "KK677 is now the only two pair, making it the second-weakest hand.\n",
    "T55J5, KTJJT, and QQQJA are now all four of a kind! T55J5 gets rank 3, QQQJA gets rank 4, and KTJJT gets rank 5.\n",
    "With the new joker rule, the total winnings in this example are 5905.\n",
    "\n",
    "Using the new joker rule, find the rank of every hand in your set. What are the new total winnings?"
   ]
  },
  {
   "cell_type": "code",
   "execution_count": 46,
   "metadata": {},
   "outputs": [],
   "source": [
    "def valueForHand_part2(hand_bid_pair):\n",
    "    cardDict = {\n",
    "        '2': 1,\n",
    "        '3': 2,\n",
    "        '4': 3,\n",
    "        '5': 4,\n",
    "        '6': 5,\n",
    "        '7': 6,\n",
    "        '8': 7,\n",
    "        '9': 8,\n",
    "        'T': 9,\n",
    "        'J': 0,\n",
    "        'Q': 10,\n",
    "        'K': 11,\n",
    "        'A': 12\n",
    "    }\n",
    "\n",
    "    def get_primary_score(cards):\n",
    "        filterd_cards = [char for char in cards if char != 'J']\n",
    "        card_counter = Counter(filterd_cards)\n",
    "        counts = list(card_counter.values())\n",
    "        countmax = max(counts, default=0)\n",
    "        match countmax + 5 - len(filterd_cards):\n",
    "            case 5:\n",
    "                return 6\n",
    "            case 4:\n",
    "                return 5\n",
    "            case 3:\n",
    "                if len(counts) == 2:\n",
    "                    return 4\n",
    "                else:\n",
    "                    return 3\n",
    "            case 2:\n",
    "                if len(counts) == 3:\n",
    "                    return 2\n",
    "                else:\n",
    "                    return 1\n",
    "            case 1:\n",
    "                return 0\n",
    "\n",
    "\n",
    "    cards = [*hand_bid_pair[0]]\n",
    "    scores = []\n",
    "    scores.append(get_primary_score(cards))\n",
    "    for card in cards:\n",
    "        scores.append(cardDict[card])\n",
    "    score_value = 0\n",
    "    multiplier = 1\n",
    "    for i in range(6):\n",
    "        score_value = score_value + scores[5-i] * multiplier\n",
    "        multiplier = 13*multiplier\n",
    "    return score_value\n",
    "\n"
   ]
  },
  {
   "cell_type": "code",
   "execution_count": 47,
   "metadata": {},
   "outputs": [
    {
     "data": {
      "text/plain": [
       "5905"
      ]
     },
     "execution_count": 47,
     "metadata": {},
     "output_type": "execute_result"
    }
   ],
   "source": [
    "result(\"example-input.txt\", valueForHand_part2)"
   ]
  },
  {
   "cell_type": "code",
   "execution_count": 48,
   "metadata": {},
   "outputs": [
    {
     "data": {
      "text/plain": [
       "246894760"
      ]
     },
     "execution_count": 48,
     "metadata": {},
     "output_type": "execute_result"
    }
   ],
   "source": [
    "result(\"input.txt\", valueForHand_part2)"
   ]
  }
 ],
 "metadata": {
  "kernelspec": {
   "display_name": "Python 3.11.3 ('ml_homework')",
   "language": "python",
   "name": "python3"
  },
  "language_info": {
   "codemirror_mode": {
    "name": "ipython",
    "version": 3
   },
   "file_extension": ".py",
   "mimetype": "text/x-python",
   "name": "python",
   "nbconvert_exporter": "python",
   "pygments_lexer": "ipython3",
   "version": "3.11.3"
  },
  "orig_nbformat": 4,
  "vscode": {
   "interpreter": {
    "hash": "d821fab6a686ba8660ad1b49b301daeaec225ead33451ecebb6e5b2377772e74"
   }
  }
 },
 "nbformat": 4,
 "nbformat_minor": 2
}
