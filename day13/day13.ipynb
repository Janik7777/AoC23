{
 "cells": [
  {
   "cell_type": "markdown",
   "metadata": {},
   "source": [
    "# Day 13: Point of Incidence\n",
    "With your help, the hot springs team locates an appropriate spring which launches you neatly and precisely up to the edge of Lava Island.\n",
    "\n",
    "There's just one problem: you don't see any lava.\n",
    "\n",
    "You do see a lot of ash and igneous rock; there are even what look like gray mountains scattered around. After a while, you make your way to a nearby cluster of mountains only to discover that the valley between them is completely full of large mirrors. Most of the mirrors seem to be aligned in a consistent way; perhaps you should head in that direction?\n",
    "\n",
    "As you move through the valley of mirrors, you find that several of them have fallen from the large metal frames keeping them in place. The mirrors are extremely flat and shiny, and many of the fallen mirrors have lodged into the ash at strange angles. Because the terrain is all one color, it's hard to tell where it's safe to walk or where you're about to run into a mirror.\n",
    "\n",
    "You note down the patterns of ash (.) and rocks (#) that you see as you walk (your puzzle input); perhaps by carefully analyzing these patterns, you can figure out where the mirrors are!\n",
    "\n",
    "For example:\n",
    "```\n",
    "#.##..##.\n",
    "..#.##.#.\n",
    "##......#\n",
    "##......#\n",
    "..#.##.#.\n",
    "..##..##.\n",
    "#.#.##.#.\n",
    "\n",
    "#...##..#\n",
    "#....#..#\n",
    "..##..###\n",
    "#####.##.\n",
    "#####.##.\n",
    "..##..###\n",
    "#....#..#\n",
    "```\n",
    "To find the reflection in each pattern, you need to find a perfect reflection across either a horizontal line between two rows or across a vertical line between two columns.\n",
    "\n",
    "In the first pattern, the reflection is across a vertical line between two columns; arrows on each of the two columns point at the line between the columns:\n",
    "```\n",
    "123456789\n",
    "    ><   \n",
    "#.##..##.\n",
    "..#.##.#.\n",
    "##......#\n",
    "##......#\n",
    "..#.##.#.\n",
    "..##..##.\n",
    "#.#.##.#.\n",
    "    ><   \n",
    "123456789\n",
    "```\n",
    "In this pattern, the line of reflection is the vertical line between columns 5 and 6. Because the vertical line is not perfectly in the middle of the pattern, part of the pattern (column 1) has nowhere to reflect onto and can be ignored; every other column has a reflected column within the pattern and must match exactly: column 2 matches column 9, column 3 matches 8, 4 matches 7, and 5 matches 6.\n",
    "\n",
    "The second pattern reflects across a horizontal line instead:\n",
    "```\n",
    "1 #...##..# 1\n",
    "2 #....#..# 2\n",
    "3 ..##..### 3\n",
    "4v#####.##.v4\n",
    "5^#####.##.^5\n",
    "6 ..##..### 6\n",
    "7 #....#..# 7\n",
    "```\n",
    "This pattern reflects across the horizontal line between rows 4 and 5. Row 1 would reflect with a hypothetical row 8, but since that's not in the pattern, row 1 doesn't need to match anything. The remaining rows match: row 2 matches row 7, row 3 matches row 6, and row 4 matches row 5.\n",
    "\n",
    "To summarize your pattern notes, add up the number of columns to the left of each vertical line of reflection; to that, also add 100 multiplied by the number of rows above each horizontal line of reflection. In the above example, the first pattern's vertical line has 5 columns to its left and the second pattern's horizontal line has 4 rows above it, a total of 405.\n",
    "\n",
    "Find the line of reflection in each of the patterns in your notes. What number do you get after summarizing all of your notes?"
   ]
  },
  {
   "cell_type": "code",
   "execution_count": 18,
   "metadata": {},
   "outputs": [],
   "source": [
    "def getScore(pattern):\n",
    "    length = len(pattern)\n",
    "    width = len(pattern[0])\n",
    "    possibleVert = list(range(1, width))\n",
    "    possibleHor = list(range(1,length))\n",
    "    for index in range(max(width,length)):\n",
    "        if index < length:\n",
    "            toRemove = []\n",
    "            for i in possibleVert:\n",
    "                for j in range(min(i, width - i)):\n",
    "                    if pattern[index][i-j-1] != pattern[index][i+j]:\n",
    "                        toRemove.append(i)\n",
    "                        break\n",
    "            for i in toRemove:\n",
    "                possibleVert.remove(i)\n",
    "        if index < width:\n",
    "            toRemove = []\n",
    "            for i in possibleHor:\n",
    "                for j in range(min(i, length - i)):\n",
    "                    if pattern[i-j-1][index] != pattern[i+j][index]:\n",
    "                        toRemove.append(i)\n",
    "                        break\n",
    "            for i in toRemove:\n",
    "                possibleHor.remove(i)\n",
    "        if len(possibleHor) + len(possibleVert) == 1:\n",
    "            break\n",
    "    if len(possibleVert) == 1:\n",
    "        return possibleVert[0]\n",
    "    else:\n",
    "        return 100 * possibleHor[0]\n",
    "\n",
    "def result(inputfile):\n",
    "    result = 0\n",
    "    current = []\n",
    "    with open(inputfile) as f:\n",
    "        for line in f:\n",
    "            line = line.strip()\n",
    "            if len(line) == 0:\n",
    "                result += getScore(current)\n",
    "                current = []\n",
    "            else:\n",
    "                current.append(line)\n",
    "    return result + getScore(current)"
   ]
  },
  {
   "cell_type": "code",
   "execution_count": 19,
   "metadata": {},
   "outputs": [
    {
     "data": {
      "text/plain": [
       "405"
      ]
     },
     "execution_count": 19,
     "metadata": {},
     "output_type": "execute_result"
    }
   ],
   "source": [
    "result(\"example-input.txt\")"
   ]
  },
  {
   "cell_type": "code",
   "execution_count": 20,
   "metadata": {},
   "outputs": [
    {
     "data": {
      "text/plain": [
       "34772"
      ]
     },
     "execution_count": 20,
     "metadata": {},
     "output_type": "execute_result"
    }
   ],
   "source": [
    "result(\"input.txt\")"
   ]
  },
  {
   "cell_type": "markdown",
   "metadata": {},
   "source": [
    "### Part Two\n",
    "You resume walking through the valley of mirrors and - SMACK! - run directly into one. Hopefully nobody was watching, because that must have been pretty embarrassing.\n",
    "\n",
    "Upon closer inspection, you discover that every mirror has exactly one smudge: exactly one . or # should be the opposite type.\n",
    "\n",
    "In each pattern, you'll need to locate and fix the smudge that causes a different reflection line to be valid. (The old reflection line won't necessarily continue being valid after the smudge is fixed.)\n",
    "\n",
    "Here's the above example again:\n",
    "```\n",
    "#.##..##.\n",
    "..#.##.#.\n",
    "##......#\n",
    "##......#\n",
    "..#.##.#.\n",
    "..##..##.\n",
    "#.#.##.#.\n",
    "\n",
    "#...##..#\n",
    "#....#..#\n",
    "..##..###\n",
    "#####.##.\n",
    "#####.##.\n",
    "..##..###\n",
    "#....#..#\n",
    "```\n",
    "The first pattern's smudge is in the top-left corner. If the top-left # were instead ., it would have a different, horizontal line of reflection:\n",
    "```\n",
    "1 ..##..##. 1\n",
    "2 ..#.##.#. 2\n",
    "3v##......#v3\n",
    "4^##......#^4\n",
    "5 ..#.##.#. 5\n",
    "6 ..##..##. 6\n",
    "7 #.#.##.#. 7\n",
    "```\n",
    "With the smudge in the top-left corner repaired, a new horizontal line of reflection between rows 3 and 4 now exists. Row 7 has no corresponding reflected row and can be ignored, but every other row matches exactly: row 1 matches row 6, row 2 matches row 5, and row 3 matches row 4.\n",
    "\n",
    "In the second pattern, the smudge can be fixed by changing the fifth symbol on row 2 from . to #:\n",
    "```\n",
    "1v#...##..#v1\n",
    "2^#...##..#^2\n",
    "3 ..##..### 3\n",
    "4 #####.##. 4\n",
    "5 #####.##. 5\n",
    "6 ..##..### 6\n",
    "7 #....#..# 7\n",
    "```\n",
    "Now, the pattern has a different horizontal line of reflection between rows 1 and 2.\n",
    "\n",
    "Summarize your notes as before, but instead use the new different reflection lines. In this example, the first pattern's new horizontal line has 3 rows above it and the second pattern's new horizontal line has 1 row above it, summarizing to the value 400.\n",
    "\n",
    "In each pattern, fix the smudge and find the different line of reflection. What number do you get after summarizing the new reflection line in each pattern in your notes?"
   ]
  },
  {
   "cell_type": "code",
   "execution_count": 21,
   "metadata": {},
   "outputs": [],
   "source": [
    "def getScore2(pattern):\n",
    "    length = len(pattern)\n",
    "    width = len(pattern[0])\n",
    "    vertDict = dict((el,0) for el in range(1, width)) \n",
    "    horDict = dict((el,0) for el in range(1,length)) \n",
    "\n",
    "    for index in range(max(width,length)):\n",
    "        if index < length:\n",
    "            for i in vertDict.keys():\n",
    "                if vertDict[i] <= 1:\n",
    "                    for j in range(min(i, width - i)):\n",
    "                        if pattern[index][i-j-1] != pattern[index][i+j]:\n",
    "                            vertDict[i] += 1\n",
    "                            break\n",
    "        if index < width:\n",
    "            for i in horDict.keys():\n",
    "                if horDict[i] <= 1:\n",
    "                    for j in range(min(i, length - i)):\n",
    "                        if pattern[i-j-1][index] != pattern[i+j][index]:\n",
    "                            horDict[i] += 1\n",
    "                            break\n",
    "    for i, amount in vertDict.items():\n",
    "        if amount == 1:\n",
    "            return i\n",
    "    for i, amount in horDict.items():\n",
    "        if amount == 1:\n",
    "            return 100*i\n",
    "\n",
    "def result2(inputfile):\n",
    "    result = 0\n",
    "    current = []\n",
    "    with open(inputfile) as f:\n",
    "        for line in f:\n",
    "            line = line.strip()\n",
    "            if len(line) == 0:\n",
    "                result += getScore2(current)\n",
    "                current = []\n",
    "            else:\n",
    "                current.append(line)\n",
    "    return result + getScore2(current)"
   ]
  },
  {
   "cell_type": "code",
   "execution_count": 22,
   "metadata": {},
   "outputs": [
    {
     "data": {
      "text/plain": [
       "400"
      ]
     },
     "execution_count": 22,
     "metadata": {},
     "output_type": "execute_result"
    }
   ],
   "source": [
    "result2(\"example-input.txt\")"
   ]
  },
  {
   "cell_type": "code",
   "execution_count": 23,
   "metadata": {},
   "outputs": [
    {
     "data": {
      "text/plain": [
       "35554"
      ]
     },
     "execution_count": 23,
     "metadata": {},
     "output_type": "execute_result"
    }
   ],
   "source": [
    "result2(\"input.txt\")"
   ]
  }
 ],
 "metadata": {
  "kernelspec": {
   "display_name": "Python 3.9.6 64-bit",
   "language": "python",
   "name": "python3"
  },
  "language_info": {
   "codemirror_mode": {
    "name": "ipython",
    "version": 3
   },
   "file_extension": ".py",
   "mimetype": "text/x-python",
   "name": "python",
   "nbconvert_exporter": "python",
   "pygments_lexer": "ipython3",
   "version": "3.9.6"
  },
  "orig_nbformat": 4,
  "vscode": {
   "interpreter": {
    "hash": "31f2aee4e71d21fbe5cf8b01ff0e069b9275f58929596ceb00d14d90e3e16cd6"
   }
  }
 },
 "nbformat": 4,
 "nbformat_minor": 2
}
