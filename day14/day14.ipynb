{
 "cells": [
  {
   "cell_type": "markdown",
   "metadata": {},
   "source": [
    "# Day 14: Parabolic Reflector Dish\n",
    "You reach the place where all of the mirrors were pointing: a massive parabolic reflector dish attached to the side of another large mountain.\n",
    "\n",
    "The dish is made up of many small mirrors, but while the mirrors themselves are roughly in the shape of a parabolic reflector dish, each individual mirror seems to be pointing in slightly the wrong direction. If the dish is meant to focus light, all it's doing right now is sending it in a vague direction.\n",
    "\n",
    "This system must be what provides the energy for the lava! If you focus the reflector dish, maybe you can go where it's pointing and use the light to fix the lava production.\n",
    "\n",
    "Upon closer inspection, the individual mirrors each appear to be connected via an elaborate system of ropes and pulleys to a large metal platform below the dish. The platform is covered in large rocks of various shapes. Depending on their position, the weight of the rocks deforms the platform, and the shape of the platform controls which ropes move and ultimately the focus of the dish.\n",
    "\n",
    "In short: if you move the rocks, you can focus the dish. The platform even has a control panel on the side that lets you tilt it in one of four directions! The rounded rocks (O) will roll when the platform is tilted, while the cube-shaped rocks (#) will stay in place. You note the positions of all of the empty spaces (.) and rocks (your puzzle input). For example:\n",
    "```\n",
    "O....#....\n",
    "O.OO#....#\n",
    ".....##...\n",
    "OO.#O....O\n",
    ".O.....O#.\n",
    "O.#..O.#.#\n",
    "..O..#O..O\n",
    ".......O..\n",
    "#....###..\n",
    "#OO..#....\n",
    "```\n",
    "Start by tilting the lever so all of the rocks will slide north as far as they will go:\n",
    "```\n",
    "OOOO.#.O..\n",
    "OO..#....#\n",
    "OO..O##..O\n",
    "O..#.OO...\n",
    "........#.\n",
    "..#....#.#\n",
    "..O..#.O.O\n",
    "..O.......\n",
    "#....###..\n",
    "#....#....\n",
    "```\n",
    "You notice that the support beams along the north side of the platform are damaged; to ensure the platform doesn't collapse, you should calculate the total load on the north support beams.\n",
    "\n",
    "The amount of load caused by a single rounded rock (O) is equal to the number of rows from the rock to the south edge of the platform, including the row the rock is on. (Cube-shaped rocks (#) don't contribute to load.) So, the amount of load caused by each rock in each row is as follows:\n",
    "```\n",
    "OOOO.#.O.. 10\n",
    "OO..#....#  9\n",
    "OO..O##..O  8\n",
    "O..#.OO...  7\n",
    "........#.  6\n",
    "..#....#.#  5\n",
    "..O..#.O.O  4\n",
    "..O.......  3\n",
    "#....###..  2\n",
    "#....#....  1\n",
    "```\n",
    "The total load is the sum of the load caused by all of the rounded rocks. In this example, the total load is 136.\n",
    "\n",
    "Tilt the platform so that the rounded rocks all roll north. Afterward, what is the total load on the north support beams?"
   ]
  },
  {
   "cell_type": "code",
   "execution_count": 19,
   "metadata": {},
   "outputs": [],
   "source": [
    "def result(inputfile):\n",
    "    result = 0\n",
    "    with open(inputfile) as f:\n",
    "        lines = f.readlines()\n",
    "    width = len(lines[0].strip())\n",
    "    for j in range(width):\n",
    "        current = len(lines)\n",
    "        for i in range(len(lines)):\n",
    "            if lines[i][j] == '#':\n",
    "                current = width - i - 1\n",
    "            if lines[i][j] == 'O':\n",
    "                result += current\n",
    "                current -= 1\n",
    "    return result"
   ]
  },
  {
   "cell_type": "code",
   "execution_count": 20,
   "metadata": {},
   "outputs": [
    {
     "data": {
      "text/plain": [
       "136"
      ]
     },
     "execution_count": 20,
     "metadata": {},
     "output_type": "execute_result"
    }
   ],
   "source": [
    "result(\"example-input.txt\")"
   ]
  },
  {
   "cell_type": "code",
   "execution_count": 21,
   "metadata": {},
   "outputs": [
    {
     "data": {
      "text/plain": [
       "110677"
      ]
     },
     "execution_count": 21,
     "metadata": {},
     "output_type": "execute_result"
    }
   ],
   "source": [
    "result(\"input.txt\")"
   ]
  },
  {
   "cell_type": "markdown",
   "metadata": {},
   "source": [
    "### Part Two\n",
    "The parabolic reflector dish deforms, but not in a way that focuses the beam. To do that, you'll need to move the rocks to the edges of the platform. Fortunately, a button on the side of the control panel labeled \"spin cycle\" attempts to do just that!\n",
    "\n",
    "Each cycle tilts the platform four times so that the rounded rocks roll north, then west, then south, then east. After each tilt, the rounded rocks roll as far as they can before the platform tilts in the next direction. After one cycle, the platform will have finished rolling the rounded rocks in those four directions in that order.\n",
    "\n",
    "Here's what happens in the example above after each of the first few cycles:\n",
    "\n",
    "After 1 cycle:\n",
    "```\n",
    ".....#....\n",
    "....#...O#\n",
    "...OO##...\n",
    ".OO#......\n",
    ".....OOO#.\n",
    ".O#...O#.#\n",
    "....O#....\n",
    "......OOOO\n",
    "#...O###..\n",
    "#..OO#....\n",
    "```\n",
    "After 2 cycles:\n",
    "```\n",
    ".....#....\n",
    "....#...O#\n",
    ".....##...\n",
    "..O#......\n",
    ".....OOO#.\n",
    ".O#...O#.#\n",
    "....O#...O\n",
    ".......OOO\n",
    "#..OO###..\n",
    "#.OOO#...O\n",
    "```\n",
    "After 3 cycles:\n",
    "```\n",
    ".....#....\n",
    "....#...O#\n",
    ".....##...\n",
    "..O#......\n",
    ".....OOO#.\n",
    ".O#...O#.#\n",
    "....O#...O\n",
    ".......OOO\n",
    "#...O###.O\n",
    "#.OOO#...O\n",
    "```\n",
    "This process should work if you leave it running long enough, but you're still worried about the north support beams. To make sure they'll survive for a while, you need to calculate the total load on the north support beams after 1000000000 cycles.\n",
    "\n",
    "In the above example, after 1000000000 cycles, the total load on the north support beams is 64.\n",
    "\n",
    "Run the spin cycle for 1000000000 cycles. Afterward, what is the total load on the north support beams?"
   ]
  },
  {
   "cell_type": "code",
   "execution_count": 22,
   "metadata": {},
   "outputs": [],
   "source": [
    "def performCycle(lines):\n",
    "    width = len(lines[0])\n",
    "    length = len(lines)\n",
    "    for j in range(width):\n",
    "        current = 0\n",
    "        for i in range(length):\n",
    "            if lines[i][j] == '#':\n",
    "                current = i + 1\n",
    "            if lines[i][j] == 'O':\n",
    "                lines[i][j] = '.'\n",
    "                lines[current][j] = 'O'\n",
    "                current += 1\n",
    "    for i in range(length):\n",
    "        current = 0\n",
    "        for j in range(width):\n",
    "            if lines[i][j] == '#':\n",
    "                current = j + 1\n",
    "            if lines[i][j] == 'O':\n",
    "                lines[i][j] = '.'\n",
    "                lines[i][current] = 'O'\n",
    "                current += 1\n",
    "    for j in range(width):\n",
    "        current = length - 1\n",
    "        for i in range(length-1, -1, -1):\n",
    "            if lines[i][j] == '#':\n",
    "                current = i - 1\n",
    "            if lines[i][j] == 'O':\n",
    "                lines[i][j] = '.'\n",
    "                lines[current][j] = 'O'\n",
    "                current -= 1\n",
    "    for i in range(length):\n",
    "        current = width - 1\n",
    "        for j in range(width-1, -1, -1):\n",
    "            if lines[i][j] == '#':\n",
    "                current = j - 1\n",
    "            if lines[i][j] == 'O':\n",
    "                lines[i][j] = '.'\n",
    "                lines[i][current] = 'O'\n",
    "                current -= 1\n",
    "\n",
    "\n",
    "def result2(inputfile):\n",
    "    result = 0\n",
    "    with open(inputfile) as f:\n",
    "        lines = f.readlines()\n",
    "        lines = [[*line.strip()] for line in lines]\n",
    "    seenLines = []\n",
    "    scores = []\n",
    "    t = 0\n",
    "    while(True):\n",
    "        if t == 1000000000:\n",
    "            break\n",
    "        performCycle(lines)\n",
    "        if str(lines) in seenLines:\n",
    "            period = t - seenLines.index(str(lines))\n",
    "            end = (1000000000 - t - 1) % period \n",
    "            return scores[seenLines.index(str(lines)) + end]\n",
    "        score = 0\n",
    "        width = len(lines[0])\n",
    "        for j in range(len(lines[0])):\n",
    "            for i in range(len(lines)):\n",
    "                if lines[i][j] == 'O':\n",
    "                    score += width - i\n",
    "        seenLines.append(str(lines))\n",
    "        scores.append(score)\n",
    "        t += 1\n",
    "        # print(\"\")\n",
    "        # for line in lines:\n",
    "        #     print(\"\".join(line))"
   ]
  },
  {
   "cell_type": "code",
   "execution_count": 23,
   "metadata": {},
   "outputs": [
    {
     "data": {
      "text/plain": [
       "64"
      ]
     },
     "execution_count": 23,
     "metadata": {},
     "output_type": "execute_result"
    }
   ],
   "source": [
    "result2(\"example-input.txt\")"
   ]
  },
  {
   "cell_type": "code",
   "execution_count": 24,
   "metadata": {},
   "outputs": [
    {
     "data": {
      "text/plain": [
       "90551"
      ]
     },
     "execution_count": 24,
     "metadata": {},
     "output_type": "execute_result"
    }
   ],
   "source": [
    "result2(\"input.txt\")"
   ]
  }
 ],
 "metadata": {
  "kernelspec": {
   "display_name": "Python 3.9.6 64-bit",
   "language": "python",
   "name": "python3"
  },
  "language_info": {
   "codemirror_mode": {
    "name": "ipython",
    "version": 3
   },
   "file_extension": ".py",
   "mimetype": "text/x-python",
   "name": "python",
   "nbconvert_exporter": "python",
   "pygments_lexer": "ipython3",
   "version": "3.9.6"
  },
  "orig_nbformat": 4,
  "vscode": {
   "interpreter": {
    "hash": "31f2aee4e71d21fbe5cf8b01ff0e069b9275f58929596ceb00d14d90e3e16cd6"
   }
  }
 },
 "nbformat": 4,
 "nbformat_minor": 2
}
