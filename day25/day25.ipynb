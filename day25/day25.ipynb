{
 "cells": [
  {
   "cell_type": "markdown",
   "metadata": {},
   "source": [
    "# Day 25: Snowverload\n",
    "Still somehow without snow, you go to the last place you haven't checked: the center of Snow Island, directly below the waterfall.\n",
    "\n",
    "Here, someone has clearly been trying to fix the problem. Scattered everywhere are hundreds of weather machines, almanacs, communication modules, hoof prints, machine parts, mirrors, lenses, and so on.\n",
    "\n",
    "Somehow, everything has been wired together into a massive snow-producing apparatus, but nothing seems to be running. You check a tiny screen on one of the communication modules: Error 2023. It doesn't say what Error 2023 means, but it does have the phone number for a support line printed on it.\n",
    "\n",
    "\"Hi, you've reached Weather Machines And So On, Inc. How can I help you?\" You explain the situation.\n",
    "\n",
    "\"Error 2023, you say? Why, that's a power overload error, of course! It means you have too many components plugged in. Try unplugging some components and--\" You explain that there are hundreds of components here and you're in a bit of a hurry.\n",
    "\n",
    "\"Well, let's see how bad it is; do you see a big red reset button somewhere? It should be on its own module. If you push it, it probably won't fix anything, but it'll report how overloaded things are.\" After a minute or two, you find the reset button; it's so big that it takes two hands just to get enough leverage to push it. Its screen then displays:\n",
    "```\n",
    "SYSTEM OVERLOAD!\n",
    "\n",
    "Connected components would require\n",
    "power equal to at least 100 stars!\n",
    "```\n",
    "\"Wait, how many components did you say are plugged in? With that much equipment, you could produce snow for an entire--\" You disconnect the call.\n",
    "\n",
    "You have nowhere near that many stars - you need to find a way to disconnect at least half of the equipment here, but it's already Christmas! You only have time to disconnect three wires.\n",
    "\n",
    "Fortunately, someone left a wiring diagram (your puzzle input) that shows how the components are connected. For example:\n",
    "```\n",
    "jqt: rhn xhk nvd\n",
    "rsh: frs pzl lsr\n",
    "xhk: hfx\n",
    "cmg: qnr nvd lhk bvb\n",
    "rhn: xhk bvb hfx\n",
    "bvb: xhk hfx\n",
    "pzl: lsr hfx nvd\n",
    "qnr: nvd\n",
    "ntq: jqt hfx bvb xhk\n",
    "nvd: lhk\n",
    "lsr: lhk\n",
    "rzs: qnr cmg lsr rsh\n",
    "frs: qnr lhk lsr\n",
    "```\n",
    "Each line shows the name of a component, a colon, and then a list of other components to which that component is connected. Connections aren't directional; abc: xyz and xyz: abc both represent the same configuration. Each connection between two components is represented only once, so some components might only ever appear on the left or right side of a colon.\n",
    "\n",
    "In this example, if you disconnect the wire between hfx/pzl, the wire between bvb/cmg, and the wire between nvd/jqt, you will divide the components into two separate, disconnected groups:\n",
    "\n",
    "- 9 components: cmg, frs, lhk, lsr, nvd, pzl, qnr, rsh, and rzs.\n",
    "- 6 components: bvb, hfx, jqt, ntq, rhn, and xhk.\n",
    "\n",
    "Multiplying the sizes of these groups together produces 54.\n",
    "\n",
    "Find the three wires you need to disconnect in order to divide the components into two separate groups. What do you get if you multiply the sizes of these two groups together?"
   ]
  },
  {
   "cell_type": "code",
   "execution_count": 3,
   "metadata": {},
   "outputs": [],
   "source": [
    "def result(inputfile):\n",
    "    nodes = []\n",
    "    edges = []\n",
    "    adjList = {}\n",
    "\n",
    "    with open(inputfile) as f:\n",
    "        for line in f:\n",
    "            start, ends = line.strip().split(': ')\n",
    "            ends = ends.split(' ')\n",
    "            if start not in nodes:\n",
    "                nodes.append(start)\n",
    "            for end in ends:\n",
    "                edges.append([start, end])\n",
    "                if end not in nodes:\n",
    "                    nodes.append(end)\n",
    "    for node in nodes:\n",
    "        adjList[node] = []\n",
    "    for edge in edges:\n",
    "        adjList[edge[0]].append(edge[1])\n",
    "        adjList[edge[1]].append(edge[0])\n",
    "    print(len(nodes))\n",
    "    A = nodes[:(len(nodes) // 2)]\n",
    "    #get amount outgoing edges\n",
    "    def outgEdges():\n",
    "        result = 0\n",
    "        for edge in edges:\n",
    "            if (edge[0] in A and edge[1] not in A) or (edge[1] in A and edge[0] not in A):\n",
    "                result += 1\n",
    "        return result\n",
    "    return outgEdges()\n",
    "    \n",
    "    "
   ]
  },
  {
   "cell_type": "code",
   "execution_count": 4,
   "metadata": {},
   "outputs": [
    {
     "name": "stdout",
     "output_type": "stream",
     "text": [
      "1550\n"
     ]
    },
    {
     "data": {
      "text/plain": [
       "1360"
      ]
     },
     "execution_count": 4,
     "metadata": {},
     "output_type": "execute_result"
    }
   ],
   "source": [
    "result(\"input.txt\")"
   ]
  },
  {
   "cell_type": "code",
   "execution_count": 17,
   "metadata": {},
   "outputs": [],
   "source": [
    "import networkx as nx\n",
    "\n",
    "def result(inputfile):\n",
    "    nodes = []\n",
    "    edges = []\n",
    "    adjList = {}\n",
    "\n",
    "    with open(inputfile) as f:\n",
    "        for line in f:\n",
    "            start, ends = line.strip().split(': ')\n",
    "            ends = ends.split(' ')\n",
    "            if start not in nodes:\n",
    "                nodes.append(start)\n",
    "            for end in ends:\n",
    "                x1 = start + end + \"_1\"\n",
    "                x2 = start + end + \"_2\"\n",
    "                nodes.append(x1)\n",
    "                nodes.append(x2)\n",
    "                edges.append([start, x1])\n",
    "                edges.append([end, x1])\n",
    "                edges.append([x1, x2])\n",
    "                edges.append([x2, start])\n",
    "                edges.append([x2, end])\n",
    "                if end not in nodes:\n",
    "                    nodes.append(end)\n",
    "    for node in nodes:\n",
    "        adjList[node] = []\n",
    "    for edge in edges:\n",
    "        adjList[edge[0]].append(edge[1])\n",
    "        adjList[edge[1]].append(edge[0])\n",
    "\n",
    "    G = nx.from_dict_of_lists(adjList, create_using=nx.DiGraph)\n",
    "    nx.set_edge_attributes(G, 1, \"capacity\")\n",
    "    val, partition = nx.minimum_cut(G, nodes[0], end)\n",
    "    part1, part2 = partition\n",
    "    filtered1 = [p for p in part1 if len(p) == 3]\n",
    "    filtered2 = [p for p in part2 if len(p) == 3]\n",
    "    return len(filtered1) *  len(filtered2)\n",
    "\n",
    "    "
   ]
  },
  {
   "cell_type": "code",
   "execution_count": 18,
   "metadata": {},
   "outputs": [
    {
     "data": {
      "text/plain": [
       "54"
      ]
     },
     "execution_count": 18,
     "metadata": {},
     "output_type": "execute_result"
    }
   ],
   "source": [
    "result(\"example-input.txt\")"
   ]
  },
  {
   "cell_type": "code",
   "execution_count": 19,
   "metadata": {},
   "outputs": [
    {
     "data": {
      "text/plain": [
       "600225"
      ]
     },
     "execution_count": 19,
     "metadata": {},
     "output_type": "execute_result"
    }
   ],
   "source": [
    "result(\"input.txt\")"
   ]
  },
  {
   "cell_type": "markdown",
   "metadata": {},
   "source": [
    "### Part Two\n",
    "You climb over weather machines, under giant springs, and narrowly avoid a pile of pipes as you find and disconnect the three wires.\n",
    "\n",
    "A moment after you disconnect the last wire, the big red reset button module makes a small ding noise:\n",
    "```\n",
    "System overload resolved!\n",
    "Power required is now 50 stars.\n",
    "````\n",
    "Out of the corner of your eye, you notice goggles and a loose-fitting hard hat peeking at you from behind an ultra crucible. You think you see a faint glow, but before you can investigate, you hear another small ding:\n",
    "```\n",
    "Power required is now 49 stars.\n",
    "```\n",
    "Please supply the necessary stars and\n",
    "push the button to restart the system."
   ]
  }
 ],
 "metadata": {
  "kernelspec": {
   "display_name": "Python 3.10.6 ('immd')",
   "language": "python",
   "name": "python3"
  },
  "language_info": {
   "codemirror_mode": {
    "name": "ipython",
    "version": 3
   },
   "file_extension": ".py",
   "mimetype": "text/x-python",
   "name": "python",
   "nbconvert_exporter": "python",
   "pygments_lexer": "ipython3",
   "version": "3.10.6"
  },
  "orig_nbformat": 4,
  "vscode": {
   "interpreter": {
    "hash": "3788634bf4494cb8c78f338b49d3415b443921db7d01b0c627acb9285c954547"
   }
  }
 },
 "nbformat": 4,
 "nbformat_minor": 2
}
