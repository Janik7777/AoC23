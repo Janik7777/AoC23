{
 "cells": [
  {
   "cell_type": "markdown",
   "metadata": {},
   "source": [
    "# Day 12: Hot Springs\n",
    "You finally reach the hot springs! You can see steam rising from secluded areas attached to the primary, ornate building.\n",
    "\n",
    "As you turn to enter, the researcher stops you. \"Wait - I thought you were looking for the hot springs, weren't you?\" You indicate that this definitely looks like hot springs to you.\n",
    "\n",
    "\"Oh, sorry, common mistake! This is actually the onsen! The hot springs are next door.\"\n",
    "\n",
    "You look in the direction the researcher is pointing and suddenly notice the massive metal helixes towering overhead. \"This way!\"\n",
    "\n",
    "It only takes you a few more steps to reach the main gate of the massive fenced-off area containing the springs. You go through the gate and into a small administrative building.\n",
    "\n",
    "\"Hello! What brings you to the hot springs today? Sorry they're not very hot right now; we're having a lava shortage at the moment.\" You ask about the missing machine parts for Desert Island.\n",
    "\n",
    "\"Oh, all of Gear Island is currently offline! Nothing is being manufactured at the moment, not until we get more lava to heat our forges. And our springs. The springs aren't very springy unless they're hot!\"\n",
    "\n",
    "\"Say, could you go up and see why the lava stopped flowing? The springs are too cold for normal operation, but we should be able to find one springy enough to launch you up there!\"\n",
    "\n",
    "There's just one problem - many of the springs have fallen into disrepair, so they're not actually sure which springs would even be safe to use! Worse yet, their condition records of which springs are damaged (your puzzle input) are also damaged! You'll need to help them repair the damaged records.\n",
    "\n",
    "In the giant field just outside, the springs are arranged into rows. For each row, the condition records show every spring and whether it is operational (.) or damaged (#). This is the part of the condition records that is itself damaged; for some springs, it is simply unknown (?) whether the spring is operational or damaged.\n",
    "\n",
    "However, the engineer that produced the condition records also duplicated some of this information in a different format! After the list of springs for a given row, the size of each contiguous group of damaged springs is listed in the order those groups appear in the row. This list always accounts for every damaged spring, and each number is the entire size of its contiguous group (that is, groups are always separated by at least one operational spring: #### would always be 4, never 2,2).\n",
    "\n",
    "So, condition records with no unknown spring conditions might look like this:\n",
    "```\n",
    "#.#.### 1,1,3\n",
    ".#...#....###. 1,1,3\n",
    ".#.###.#.###### 1,3,1,6\n",
    "####.#...#... 4,1,1\n",
    "#....######..#####. 1,6,5\n",
    ".###.##....# 3,2,1\n",
    "```\n",
    "However, the condition records are partially damaged; some of the springs' conditions are actually unknown (?). For example:\n",
    "```\n",
    "???.### 1,1,3\n",
    ".??..??...?##. 1,1,3\n",
    "?#?#?#?#?#?#?#? 1,3,1,6\n",
    "????.#...#... 4,1,1\n",
    "????.######..#####. 1,6,5\n",
    "?###???????? 3,2,1\n",
    "```\n",
    "Equipped with this information, it is your job to figure out how many different arrangements of operational and broken springs fit the given criteria in each row.\n",
    "\n",
    "In the first line (???.### 1,1,3), there is exactly one way separate groups of one, one, and three broken springs (in that order) can appear in that row: the first three unknown springs must be broken, then operational, then broken (#.#), making the whole row #.#.###.\n",
    "\n",
    "The second line is more interesting: .??..??...?##. 1,1,3 could be a total of four different arrangements. The last ? must always be broken (to satisfy the final contiguous group of three broken springs), and each ?? must hide exactly one of the two broken springs. (Neither ?? could be both broken springs or they would form a single contiguous group of two; if that were true, the numbers afterward would have been 2,3 instead.) Since each ?? can either be #. or .#, there are four possible arrangements of springs.\n",
    "\n",
    "The last line is actually consistent with ten different arrangements! Because the first number is 3, the first and second ? must both be . (if either were #, the first number would have to be 4 or higher). However, the remaining run of unknown spring conditions have many different ways they could hold groups of two and one broken springs:\n",
    "```\n",
    "?###???????? 3,2,1\n",
    ".###.##.#...\n",
    ".###.##..#..\n",
    ".###.##...#.\n",
    ".###.##....#\n",
    ".###..##.#..\n",
    ".###..##..#.\n",
    ".###..##...#\n",
    ".###...##.#.\n",
    ".###...##..#\n",
    ".###....##.#\n",
    "```\n",
    "In this example, the number of possible arrangements for each row is:\n",
    "```\n",
    "???.### 1,1,3 - 1 arrangement\n",
    ".??..??...?##. 1,1,3 - 4 arrangements\n",
    "?#?#?#?#?#?#?#? 1,3,1,6 - 1 arrangement\n",
    "????.#...#... 4,1,1 - 1 arrangement\n",
    "????.######..#####. 1,6,5 - 4 arrangements\n",
    "?###???????? 3,2,1 - 10 arrangements\n",
    "```\n",
    "Adding all of the possible arrangement counts together produces a total of 21 arrangements.\n",
    "\n",
    "For each row, count all of the different arrangements of operational and broken springs that meet the given criteria. What is the sum of those counts?"
   ]
  },
  {
   "cell_type": "code",
   "execution_count": 97,
   "metadata": {},
   "outputs": [],
   "source": [
    "def isInputPossible(chars, numbers, areQuestionmarksHashes):\n",
    "    currentCount = 0\n",
    "    currentNumbersIndex = 0\n",
    "    pointSet = ['.']\n",
    "    hashSet = ['#']\n",
    "    if areQuestionmarksHashes:\n",
    "        hashSet.append('?')\n",
    "    else:\n",
    "        pointSet.append('?')\n",
    "    for char in chars:\n",
    "        if currentCount == 0:\n",
    "            if char in pointSet:\n",
    "                continue\n",
    "            else:\n",
    "                if currentNumbersIndex == len(numbers):\n",
    "                    return 0\n",
    "                currentCount = numbers[currentNumbersIndex]\n",
    "                currentNumbersIndex += 1\n",
    "        elif currentCount == 1:\n",
    "            if char in pointSet:\n",
    "                currentCount = 0\n",
    "                continue\n",
    "            else:\n",
    "                return 0\n",
    "        else:\n",
    "            if char in pointSet:\n",
    "                return 0\n",
    "            else:\n",
    "                currentCount -= 1\n",
    "                continue\n",
    "\n",
    "    if currentNumbersIndex == len(numbers):\n",
    "        return 1\n",
    "    return 0\n",
    "\n",
    "def getAmountArrangements(chars, numbers):\n",
    "    #print(\"\".join(chars))\n",
    "    if len([char for char in chars if char in  ['?', '#']]) == sum(numbers):\n",
    "        return isInputPossible(chars, numbers, True)\n",
    "    if len([char for char in chars if char == '#']) == sum(numbers):\n",
    "        return isInputPossible(chars, numbers, False)\n",
    "    i = chars.index('?')\n",
    "    result = 0\n",
    "    chars1 = chars.copy()\n",
    "    chars2 = chars.copy()\n",
    "    chars1[i] = '#'\n",
    "    result += getAmountArrangements(chars1, numbers)\n",
    "    chars2[i] = '.'\n",
    "    result += getAmountArrangements(chars2, numbers)\n",
    "    return result\n",
    "\n",
    "\n",
    "def result(inputfile):\n",
    "    charInput = []\n",
    "    numberInput = []\n",
    "    with open(inputfile) as f:\n",
    "        for line in f:\n",
    "            chars, numbers = line.strip().split()\n",
    "            chars = [*chars]\n",
    "            numbers = [int(char) for char in numbers.split(',')]\n",
    "            charInput.append(chars)\n",
    "            numberInput.append(numbers)\n",
    "    result = 0\n",
    "    for i in range(len(charInput)):\n",
    "        result += getAmountArrangements(charInput[i], numberInput[i])\n",
    "    return result"
   ]
  },
  {
   "cell_type": "code",
   "execution_count": 98,
   "metadata": {},
   "outputs": [
    {
     "data": {
      "text/plain": [
       "21"
      ]
     },
     "execution_count": 98,
     "metadata": {},
     "output_type": "execute_result"
    }
   ],
   "source": [
    "result(\"example-input.txt\")"
   ]
  },
  {
   "cell_type": "code",
   "execution_count": 100,
   "metadata": {},
   "outputs": [
    {
     "data": {
      "text/plain": [
       "7350"
      ]
     },
     "execution_count": 100,
     "metadata": {},
     "output_type": "execute_result"
    }
   ],
   "source": [
    "result(\"input.txt\")"
   ]
  },
  {
   "cell_type": "markdown",
   "metadata": {},
   "source": [
    "### Part Two\n",
    "As you look out at the field of springs, you feel like there are way more springs than the condition records list. When you examine the records, you discover that they were actually folded up this whole time!\n",
    "\n",
    "To unfold the records, on each row, replace the list of spring conditions with five copies of itself (separated by ?) and replace the list of contiguous groups of damaged springs with five copies of itself (separated by ,).\n",
    "\n",
    "So, this row:\n",
    "\n",
    ".# 1\n",
    "Would become:\n",
    "```\n",
    ".#?.#?.#?.#?.# 1,1,1,1,1\n",
    "```\n",
    "The first line of the above example would become:\n",
    "```\n",
    "???.###????.###????.###????.###????.### 1,1,3,1,1,3,1,1,3,1,1,3,1,1,3\n",
    "```\n",
    "In the above example, after unfolding, the number of possible arrangements for some rows is now much larger:\n",
    "```\n",
    "???.### 1,1,3 - 1 arrangement\n",
    ".??..??...?##. 1,1,3 - 16384 arrangements\n",
    "?#?#?#?#?#?#?#? 1,3,1,6 - 1 arrangement\n",
    "????.#...#... 4,1,1 - 16 arrangements\n",
    "????.######..#####. 1,6,5 - 2500 arrangements\n",
    "?###???????? 3,2,1 - 506250 arrangements\n",
    "```\n",
    "After unfolding, adding all of the possible arrangement counts together produces 525152.\n",
    "\n",
    "Unfold your condition records; what is the new sum of possible arrangement counts?"
   ]
  },
  {
   "cell_type": "code",
   "execution_count": 101,
   "metadata": {},
   "outputs": [],
   "source": [
    "seenInputs = {}\n",
    "\n",
    "def getAmountArrangements2(chars, numbers):\n",
    "    key = \"\".join(chars) + \",\" + \",\".join([str(num) for num in numbers])\n",
    "    if key in seenInputs:\n",
    "        return seenInputs[key]\n",
    "    if len(numbers) == 1 and len(chars) == numbers[0] and set(chars).issubset(['?','#']):\n",
    "        seenInputs[key] = 1\n",
    "        return 1\n",
    "    if len(chars) == 0:\n",
    "        if len(numbers) == 0:\n",
    "            seenInputs[key] = 1\n",
    "            return 1\n",
    "        else:\n",
    "            seenInputs[key] = 0\n",
    "            return 0\n",
    "    if len(numbers) == 0:\n",
    "        if set(chars).issubset(['?','.']):\n",
    "            seenInputs[key] = 1\n",
    "            return 1\n",
    "        else:\n",
    "            seenInputs[key] = 0\n",
    "            return 0\n",
    "    if len(chars) < sum(numbers) + len(numbers) - 1:\n",
    "        seenInputs[key] = 0\n",
    "        return 0\n",
    "\n",
    "    result = 0\n",
    "    if chars[0] in \".?\":\n",
    "        result += getAmountArrangements2(chars[1:], numbers)\n",
    "    if set(chars[:numbers[0]]).issubset(['?','#']) and chars[numbers[0]] in ['?','.']:\n",
    "        result += getAmountArrangements2(chars[(numbers[0]+1):], numbers[1:])\n",
    "    seenInputs[key] = result\n",
    "    return result\n",
    "\n",
    "def result2(inputfile):\n",
    "    charInput = []\n",
    "    numberInput = []\n",
    "    with open(inputfile) as f:\n",
    "        for line in f:\n",
    "            chars, numbers = line.strip().split()\n",
    "            chars = [*chars]\n",
    "            numbers = [int(char) for char in numbers.split(',')]\n",
    "            longChars = chars.copy()\n",
    "            longNumbers = numbers.copy()\n",
    "            for i in range(4):\n",
    "                longChars.append('?')\n",
    "                longChars.extend(chars)\n",
    "                longNumbers.extend(numbers)\n",
    "            charInput.append(longChars)\n",
    "            numberInput.append(longNumbers)\n",
    "    result = 0\n",
    "    for i in range(len(charInput)):\n",
    "        result += getAmountArrangements2(charInput[i], numberInput[i])\n",
    "    return result"
   ]
  },
  {
   "cell_type": "code",
   "execution_count": 102,
   "metadata": {},
   "outputs": [
    {
     "data": {
      "text/plain": [
       "525152"
      ]
     },
     "execution_count": 102,
     "metadata": {},
     "output_type": "execute_result"
    }
   ],
   "source": [
    "result2(\"example-input.txt\")"
   ]
  },
  {
   "cell_type": "code",
   "execution_count": 103,
   "metadata": {},
   "outputs": [
    {
     "data": {
      "text/plain": [
       "200097286528151"
      ]
     },
     "execution_count": 103,
     "metadata": {},
     "output_type": "execute_result"
    }
   ],
   "source": [
    "result2(\"input.txt\")"
   ]
  }
 ],
 "metadata": {
  "kernelspec": {
   "display_name": "Python 3.9.6 64-bit",
   "language": "python",
   "name": "python3"
  },
  "language_info": {
   "codemirror_mode": {
    "name": "ipython",
    "version": 3
   },
   "file_extension": ".py",
   "mimetype": "text/x-python",
   "name": "python",
   "nbconvert_exporter": "python",
   "pygments_lexer": "ipython3",
   "version": "3.9.6"
  },
  "orig_nbformat": 4,
  "vscode": {
   "interpreter": {
    "hash": "31f2aee4e71d21fbe5cf8b01ff0e069b9275f58929596ceb00d14d90e3e16cd6"
   }
  }
 },
 "nbformat": 4,
 "nbformat_minor": 2
}
